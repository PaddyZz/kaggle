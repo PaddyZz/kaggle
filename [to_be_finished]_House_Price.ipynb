{
  "metadata": {
    "kernelspec": {
      "language": "python",
      "display_name": "Python 3",
      "name": "python3"
    },
    "language_info": {
      "name": "python",
      "version": "3.10.13",
      "mimetype": "text/x-python",
      "codemirror_mode": {
        "name": "ipython",
        "version": 3
      },
      "pygments_lexer": "ipython3",
      "nbconvert_exporter": "python",
      "file_extension": ".py"
    },
    "kaggle": {
      "accelerator": "none",
      "dataSources": [
        {
          "sourceId": 8023939,
          "sourceType": "datasetVersion",
          "datasetId": 4728541
        }
      ],
      "dockerImageVersionId": 30698,
      "isInternetEnabled": true,
      "language": "python",
      "sourceType": "notebook",
      "isGpuEnabled": false
    },
    "colab": {
      "name": "[to be finished] House Price",
      "provenance": []
    }
  },
  "nbformat_minor": 0,
  "nbformat": 4,
  "cells": [
    {
      "source": [
        "\n",
        "# IMPORTANT: RUN THIS CELL IN ORDER TO IMPORT YOUR KAGGLE DATA SOURCES\n",
        "# TO THE CORRECT LOCATION (/kaggle/input) IN YOUR NOTEBOOK,\n",
        "# THEN FEEL FREE TO DELETE THIS CELL.\n",
        "# NOTE: THIS NOTEBOOK ENVIRONMENT DIFFERS FROM KAGGLE'S PYTHON\n",
        "# ENVIRONMENT SO THERE MAY BE MISSING LIBRARIES USED BY YOUR\n",
        "# NOTEBOOK.\n",
        "\n",
        "import os\n",
        "import sys\n",
        "from tempfile import NamedTemporaryFile\n",
        "from urllib.request import urlopen\n",
        "from urllib.parse import unquote, urlparse\n",
        "from urllib.error import HTTPError\n",
        "from zipfile import ZipFile\n",
        "import tarfile\n",
        "import shutil\n",
        "\n",
        "CHUNK_SIZE = 40960\n",
        "DATA_SOURCE_MAPPING = 'house-price:https%3A%2F%2Fstorage.googleapis.com%2Fkaggle-data-sets%2F4728541%2F8023939%2Fbundle%2Farchive.zip%3FX-Goog-Algorithm%3DGOOG4-RSA-SHA256%26X-Goog-Credential%3Dgcp-kaggle-com%2540kaggle-161607.iam.gserviceaccount.com%252F20240430%252Fauto%252Fstorage%252Fgoog4_request%26X-Goog-Date%3D20240430T101533Z%26X-Goog-Expires%3D259200%26X-Goog-SignedHeaders%3Dhost%26X-Goog-Signature%3D7136c65f43939a02722e69b848ca9637e7f96a208197fc6045ffd6197d326a6af0e827362439f14cfc524a110f7d48f0d3f73a573f748fa8482ffed0bbb85ab4caea7b433dbab52e41235cd39b43b2d24cf073828b76a35ba727af84ec47641a0630af6edd20b95265af2ed013ca103cf4a191e4daa3b7bf11c16c6374d7a23dc7ac8706b2d76b2d60e1cb920dee1feeee2506067167d4005415924db6f3771a2837274932060f8b02431a76e1953de252c9913535408fc1ae7240b6ad22b2cf70612b32e0496fe4109e5db56888f0bc1084c66d310d6e4fcc0d5fa1c989e5df309320d2f8c1e21e01870d473d726f168b1be74857bafd3cc4cae112a7d8a5ac'\n",
        "\n",
        "KAGGLE_INPUT_PATH='/kaggle/input'\n",
        "KAGGLE_WORKING_PATH='/kaggle/working'\n",
        "KAGGLE_SYMLINK='kaggle'\n",
        "\n",
        "!umount /kaggle/input/ 2> /dev/null\n",
        "shutil.rmtree('/kaggle/input', ignore_errors=True)\n",
        "os.makedirs(KAGGLE_INPUT_PATH, 0o777, exist_ok=True)\n",
        "os.makedirs(KAGGLE_WORKING_PATH, 0o777, exist_ok=True)\n",
        "\n",
        "try:\n",
        "  os.symlink(KAGGLE_INPUT_PATH, os.path.join(\"..\", 'input'), target_is_directory=True)\n",
        "except FileExistsError:\n",
        "  pass\n",
        "try:\n",
        "  os.symlink(KAGGLE_WORKING_PATH, os.path.join(\"..\", 'working'), target_is_directory=True)\n",
        "except FileExistsError:\n",
        "  pass\n",
        "\n",
        "for data_source_mapping in DATA_SOURCE_MAPPING.split(','):\n",
        "    directory, download_url_encoded = data_source_mapping.split(':')\n",
        "    download_url = unquote(download_url_encoded)\n",
        "    filename = urlparse(download_url).path\n",
        "    destination_path = os.path.join(KAGGLE_INPUT_PATH, directory)\n",
        "    try:\n",
        "        with urlopen(download_url) as fileres, NamedTemporaryFile() as tfile:\n",
        "            total_length = fileres.headers['content-length']\n",
        "            print(f'Downloading {directory}, {total_length} bytes compressed')\n",
        "            dl = 0\n",
        "            data = fileres.read(CHUNK_SIZE)\n",
        "            while len(data) > 0:\n",
        "                dl += len(data)\n",
        "                tfile.write(data)\n",
        "                done = int(50 * dl / int(total_length))\n",
        "                sys.stdout.write(f\"\\r[{'=' * done}{' ' * (50-done)}] {dl} bytes downloaded\")\n",
        "                sys.stdout.flush()\n",
        "                data = fileres.read(CHUNK_SIZE)\n",
        "            if filename.endswith('.zip'):\n",
        "              with ZipFile(tfile) as zfile:\n",
        "                zfile.extractall(destination_path)\n",
        "            else:\n",
        "              with tarfile.open(tfile.name) as tarfile:\n",
        "                tarfile.extractall(destination_path)\n",
        "            print(f'\\nDownloaded and uncompressed: {directory}')\n",
        "    except HTTPError as e:\n",
        "        print(f'Failed to load (likely expired) {download_url} to path {destination_path}')\n",
        "        continue\n",
        "    except OSError as e:\n",
        "        print(f'Failed to load {download_url} to path {destination_path}')\n",
        "        continue\n",
        "\n",
        "print('Data source import complete.')\n"
      ],
      "metadata": {
        "id": "KbUQdcbyfwKx"
      },
      "cell_type": "code",
      "outputs": [],
      "execution_count": null
    },
    {
      "cell_type": "code",
      "source": [],
      "metadata": {
        "_uuid": "8f2839f25d086af736a60e9eeb907d3b93b6e0e5",
        "_cell_guid": "b1076dfc-b9ad-4769-8c92-a6c4dae69d19",
        "trusted": true,
        "id": "fs6jI_FDfwK5"
      },
      "execution_count": null,
      "outputs": []
    },
    {
      "cell_type": "code",
      "source": [
        "# and a Lasso regressor, and combines their predictions.\n",
        "#\n",
        "# It borrows ideas from lots of other people's scripts, including:\n",
        "# https://www.kaggle.com/klyusba/house-prices-advanced-regression-techniques/lasso-model-for-regression-problem/notebook\n",
        "# https://www.kaggle.com/juliencs/house-prices-advanced-regression-techniques/a-study-on-regression-applied-to-the-ames-dataset/\n",
        "# https://www.kaggle.com/apapiu/house-prices-advanced-regression-techniques/regularized-linear-models\n",
        "# but I probably forgot to mention a few. ;-)\n",
        "\n",
        "import numpy as np\n",
        "import pandas as pd\n",
        "\n",
        "# The error metric: RMSE on the log of the sale prices.\n",
        "from sklearn.metrics import mean_squared_error\n",
        "def rmse(y_true, y_pred):\n",
        "    return np.sqrt(mean_squared_error(y_true, y_pred))\n",
        "\n",
        "# Load the data.\n",
        "train_df = pd.read_csv(\"/kaggle/input/house-price/train.csv\")\n",
        "test_df = pd.read_csv(\"/kaggle/input/house-price/test.csv\")"
      ],
      "metadata": {
        "_uuid": "8f2839f25d086af736a60e9eeb907d3b93b6e0e5",
        "_cell_guid": "b1076dfc-b9ad-4769-8c92-a6c4dae69d19",
        "execution": {
          "iopub.status.busy": "2024-04-29T12:27:00.100684Z",
          "iopub.execute_input": "2024-04-29T12:27:00.10128Z",
          "iopub.status.idle": "2024-04-29T12:27:02.682242Z",
          "shell.execute_reply.started": "2024-04-29T12:27:00.101246Z",
          "shell.execute_reply": "2024-04-29T12:27:02.68068Z"
        },
        "trusted": true,
        "id": "tikQX6RJfwK6"
      },
      "execution_count": null,
      "outputs": []
    },
    {
      "cell_type": "code",
      "source": [
        "#train_df.info()"
      ],
      "metadata": {
        "execution": {
          "iopub.status.busy": "2024-04-29T12:27:02.686683Z",
          "iopub.execute_input": "2024-04-29T12:27:02.687146Z",
          "iopub.status.idle": "2024-04-29T12:27:02.693304Z",
          "shell.execute_reply.started": "2024-04-29T12:27:02.687104Z",
          "shell.execute_reply": "2024-04-29T12:27:02.691322Z"
        },
        "trusted": true,
        "id": "iytJVUv-fwK-"
      },
      "execution_count": null,
      "outputs": []
    },
    {
      "cell_type": "code",
      "source": [
        "#train_df[\"BsmtQual\"].fillna(\"NA\", inplace=True)\n",
        "#train_df.fillna({\"BsmtQual\": 0}, inplace=True)\n",
        "test_all_df = pd.DataFrame(index = train_df.index)\n",
        "qual_dict = {np.nan: 0,\"Po\":1, \"Fa\": 2, \"TA\": 3, \"Gd\": 4, \"Ex\": 5}\n",
        "print(train_df[\"BsmtQual\"].unique())\n",
        "#test_all_df[\"BsmtQual\"] =\n",
        "train_df[\"BsmtQual\"].map(qual_dict).astype(int)\n",
        "print(train_df[\"LotArea\"].info)\n",
        "\n",
        "is_null = train_df[\"LotArea\"].isnull().any()\n",
        "\n",
        "if is_null:\n",
        "    print(\"BsmtQual 列包含缺失值\")\n",
        "else:\n",
        "    print(\"BsmtQual 列不包含缺失值\")\n",
        "missing_count = train_df[\"LotArea\"].isnull().sum()\n",
        "\n",
        "print(\"BsmtQual 列中缺失值的数量为:\", missing_count)\n",
        "\n",
        "#train_df.info()\n"
      ],
      "metadata": {
        "_uuid": "8f2839f25d086af736a60e9eeb907d3b93b6e0e5",
        "_cell_guid": "b1076dfc-b9ad-4769-8c92-a6c4dae69d19",
        "execution": {
          "iopub.status.busy": "2024-04-29T12:27:02.695576Z",
          "iopub.execute_input": "2024-04-29T12:27:02.696522Z",
          "iopub.status.idle": "2024-04-29T12:27:02.724609Z",
          "shell.execute_reply.started": "2024-04-29T12:27:02.69648Z",
          "shell.execute_reply": "2024-04-29T12:27:02.723653Z"
        },
        "trusted": true,
        "id": "d2utVtJlfwK_",
        "outputId": "5dc975c5-9dd2-44b6-de18-4aed3c6af397"
      },
      "execution_count": null,
      "outputs": [
        {
          "name": "stdout",
          "text": "['Gd' 'TA' 'Ex' nan 'Fa']\n<bound method Series.info of 0        8450\n1        9600\n2       11250\n3        9550\n4       14260\n        ...  \n1455     7917\n1456    13175\n1457     9042\n1458     9717\n1459     9937\nName: LotArea, Length: 1460, dtype: int64>\nBsmtQual 列不包含缺失值\nBsmtQual 列中缺失值的数量为: 0\n",
          "output_type": "stream"
        }
      ]
    },
    {
      "cell_type": "code",
      "source": [
        "# There are a few houses with more than 4000 sq ft living area that are\n",
        "# outliers, so we drop them from the training data. (There is also one in\n",
        "# the test set but we obviously can't drop that one.)\n",
        "train_df.drop(train_df[train_df[\"GrLivArea\"] > 4000].index, inplace=True)\n",
        "\n",
        "# The test example with ID 666 has GarageArea, GarageCars, and GarageType\n",
        "# but none of the other fields, so use the mode and median to fill them in.\n",
        "test_df.loc[666, \"GarageQual\"] = \"TA\"\n",
        "test_df.loc[666, \"GarageCond\"] = \"TA\"\n",
        "test_df.loc[666, \"GarageFinish\"] = \"Unf\"\n",
        "test_df.loc[666, \"GarageYrBlt\"] = \"1980\"\n",
        "\n",
        "# The test example 1116 only has GarageType but no other information. We'll\n",
        "# assume it does not have a garage.\n",
        "test_df.loc[1116, \"GarageType\"] = np.nan\n",
        "\n",
        "# For imputing missing values: fill in missing LotFrontage values by the median\n",
        "# LotFrontage of the neighborhood.\n",
        "lot_frontage_by_neighborhood = train_df[\"LotFrontage\"].groupby(train_df[\"Neighborhood\"])"
      ],
      "metadata": {
        "_uuid": "8f2839f25d086af736a60e9eeb907d3b93b6e0e5",
        "_cell_guid": "b1076dfc-b9ad-4769-8c92-a6c4dae69d19",
        "execution": {
          "iopub.status.busy": "2024-04-29T12:27:02.725879Z",
          "iopub.execute_input": "2024-04-29T12:27:02.726668Z",
          "iopub.status.idle": "2024-04-29T12:27:02.743166Z",
          "shell.execute_reply.started": "2024-04-29T12:27:02.726634Z",
          "shell.execute_reply": "2024-04-29T12:27:02.742048Z"
        },
        "trusted": true,
        "id": "u8k8cgaafwLC",
        "outputId": "aad16529-d666-4860-e0bc-eab6f9e42278"
      },
      "execution_count": null,
      "outputs": [
        {
          "name": "stderr",
          "text": "/tmp/ipykernel_33/1245083220.py:11: FutureWarning: Setting an item of incompatible dtype is deprecated and will raise an error in a future version of pandas. Value '1980' has dtype incompatible with float64, please explicitly cast to a compatible dtype first.\n  test_df.loc[666, \"GarageYrBlt\"] = \"1980\"\n",
          "output_type": "stream"
        }
      ]
    },
    {
      "cell_type": "code",
      "source": [
        "# Used to convert categorical features into ordinal numbers.\n",
        "# (There's probably an easier way to do this, but it works.)\n",
        "from sklearn.preprocessing import LabelEncoder\n",
        "le = LabelEncoder()\n",
        "\n",
        "def factorize(df, factor_df, column, fill_na=None):\n",
        "    factor_df[column] = df[column]\n",
        "    if fill_na is not None:\n",
        "        factor_df[column].fillna(fill_na, inplace=True)\n",
        "    le.fit(factor_df[column].unique())\n",
        "    factor_df[column] = le.transform(factor_df[column])\n",
        "    return factor_df\n",
        "\n",
        "# Combine all the (numerical) features into one big DataFrame. We don't add\n",
        "# the one-hot encoded variables here yet, that happens later on.\n",
        "def munge(df):\n",
        "    all_df = pd.DataFrame(index = df.index)\n",
        "\n",
        "    all_df[\"LotFrontage\"] = df[\"LotFrontage\"]\n",
        "    for key, group in lot_frontage_by_neighborhood:\n",
        "        idx = (df[\"Neighborhood\"] == key) & (df[\"LotFrontage\"].isnull())\n",
        "        all_df.loc[idx, \"LotFrontage\"] = group.median()\n",
        "\n",
        "    all_df[\"LotArea\"] = df[\"LotArea\"]\n",
        "\n",
        "    all_df[\"MasVnrArea\"] = df[\"MasVnrArea\"]\n",
        "    all_df[\"MasVnrArea\"].fillna(0, inplace=True)\n",
        "\n",
        "    all_df[\"BsmtFinSF1\"] = df[\"BsmtFinSF1\"]\n",
        "    all_df[\"BsmtFinSF1\"].fillna(0, inplace=True)\n",
        "\n",
        "    all_df[\"BsmtFinSF2\"] = df[\"BsmtFinSF2\"]\n",
        "    all_df[\"BsmtFinSF2\"].fillna(0, inplace=True)\n",
        "\n",
        "    all_df[\"BsmtUnfSF\"] = df[\"BsmtUnfSF\"]\n",
        "    all_df[\"BsmtUnfSF\"].fillna(0, inplace=True)\n",
        "\n",
        "    all_df[\"TotalBsmtSF\"] = df[\"TotalBsmtSF\"]\n",
        "    all_df[\"TotalBsmtSF\"].fillna(0, inplace=True)\n",
        "\n",
        "    all_df[\"1stFlrSF\"] = df[\"1stFlrSF\"]\n",
        "    all_df[\"2ndFlrSF\"] = df[\"2ndFlrSF\"]\n",
        "    all_df[\"GrLivArea\"] = df[\"GrLivArea\"]\n",
        "\n",
        "    all_df[\"GarageArea\"] = df[\"GarageArea\"]\n",
        "    all_df[\"GarageArea\"].fillna(0, inplace=True)\n",
        "\n",
        "    all_df[\"WoodDeckSF\"] = df[\"WoodDeckSF\"]\n",
        "    all_df[\"OpenPorchSF\"] = df[\"OpenPorchSF\"]\n",
        "    all_df[\"EnclosedPorch\"] = df[\"EnclosedPorch\"]\n",
        "    all_df[\"3SsnPorch\"] = df[\"3SsnPorch\"]\n",
        "    all_df[\"ScreenPorch\"] = df[\"ScreenPorch\"]\n",
        "\n",
        "    all_df[\"BsmtFullBath\"] = df[\"BsmtFullBath\"]\n",
        "    all_df[\"BsmtFullBath\"].fillna(0, inplace=True)\n",
        "\n",
        "    all_df[\"BsmtHalfBath\"] = df[\"BsmtHalfBath\"]\n",
        "    all_df[\"BsmtHalfBath\"].fillna(0, inplace=True)\n",
        "\n",
        "    all_df[\"FullBath\"] = df[\"FullBath\"]\n",
        "    all_df[\"HalfBath\"] = df[\"HalfBath\"]\n",
        "    all_df[\"BedroomAbvGr\"] = df[\"BedroomAbvGr\"]\n",
        "    all_df[\"KitchenAbvGr\"] = df[\"KitchenAbvGr\"]\n",
        "    all_df[\"TotRmsAbvGrd\"] = df[\"TotRmsAbvGrd\"]\n",
        "    all_df[\"Fireplaces\"] = df[\"Fireplaces\"]\n",
        "\n",
        "    all_df[\"GarageCars\"] = df[\"GarageCars\"]\n",
        "    all_df[\"GarageCars\"].fillna(0, inplace=True)\n",
        "\n",
        "    all_df[\"CentralAir\"] = (df[\"CentralAir\"] == \"Y\") * 1.0\n",
        "\n",
        "    all_df[\"OverallQual\"] = df[\"OverallQual\"]\n",
        "    all_df[\"OverallCond\"] = df[\"OverallCond\"]\n",
        "\n",
        "    # Quality measurements are stored as text but we can convert them to\n",
        "    # numbers where a higher number means higher quality.\n",
        "\n",
        "    qual_dict = {np.nan: 0, \"Po\": 1, \"Fa\": 2, \"TA\": 3, \"Gd\": 4, \"Ex\": 5}\n",
        "    #\n",
        "   # qual_dict_sec = {'NA': 0, \"Po\": 1, \"Fa\": 2, \"TA\": 3, \"Gd\": 4, \"Ex\": 5}\n",
        "   # df[\"BsmtQual\"].fillna(\"NA\", inplace=True)\n",
        "   # df[\"BsmtCond\"].fillna(\"NA\", inplace=True)\n",
        "   # df[\"FireplaceQu\"].fillna(\"NA\", inplace=True)\n",
        "    #df[\"GarageQual\"].fillna(\"NA\", inplace=True)\n",
        "   # df[\"GarageCond\"].fillna(\"NA\", inplace=True)\n",
        "    #\n",
        "    all_df[\"ExterQual\"] = df[\"ExterQual\"].map(qual_dict).astype(int)\n",
        "    all_df[\"ExterCond\"] = df[\"ExterCond\"].map(qual_dict).astype(int)\n",
        "    all_df[\"BsmtQual\"] = df[\"BsmtQual\"].map(qual_dict).astype(int)#\n",
        "    all_df[\"BsmtCond\"] = df[\"BsmtCond\"].map(qual_dict).astype(int)#\n",
        "    all_df[\"HeatingQC\"] = df[\"HeatingQC\"].map(qual_dict).astype(int)\n",
        "    all_df[\"KitchenQual\"] = df[\"KitchenQual\"].map(qual_dict).astype(int)\n",
        "    all_df[\"FireplaceQu\"] = df[\"FireplaceQu\"].map(qual_dict).astype(int)#\n",
        "    all_df[\"GarageQual\"] = df[\"GarageQual\"].map(qual_dict).astype(int)#\n",
        "    all_df[\"GarageCond\"] = df[\"GarageCond\"].map(qual_dict).astype(int)#\n",
        "\n",
        "    all_df[\"BsmtExposure\"] = df[\"BsmtExposure\"].map(\n",
        "        {np.nan: 0, \"No\": 1, \"Mn\": 2, \"Av\": 3, \"Gd\": 4}).astype(int)\n",
        "\n",
        "    bsmt_fin_dict = {np.nan: 0, \"Unf\": 1, \"LwQ\": 2, \"Rec\": 3, \"BLQ\": 4, \"ALQ\": 5, \"GLQ\": 6}\n",
        "    all_df[\"BsmtFinType1\"] = df[\"BsmtFinType1\"].map(bsmt_fin_dict).astype(int)\n",
        "    all_df[\"BsmtFinType2\"] = df[\"BsmtFinType2\"].map(bsmt_fin_dict).astype(int)\n",
        "\n",
        "    all_df[\"Functional\"] = df[\"Functional\"].map(\n",
        "        {np.nan: 0, \"Sal\": 1, \"Sev\": 2, \"Maj2\": 3, \"Maj1\": 4,\n",
        "         \"Mod\": 5, \"Min2\": 6, \"Min1\": 7, \"Typ\": 8}).astype(int)\n",
        "\n",
        "    all_df[\"GarageFinish\"] = df[\"GarageFinish\"].map(\n",
        "        {np.nan: 0, \"Unf\": 1, \"RFn\": 2, \"Fin\": 3}).astype(int)\n",
        "\n",
        "    all_df[\"Fence\"] = df[\"Fence\"].map(\n",
        "        {np.nan: 0, \"MnWw\": 1, \"GdWo\": 2, \"MnPrv\": 3, \"GdPrv\": 4}).astype(int)\n",
        "\n",
        "    all_df[\"YearBuilt\"] = df[\"YearBuilt\"]\n",
        "    all_df[\"YearRemodAdd\"] = df[\"YearRemodAdd\"]\n",
        "\n",
        "    all_df[\"GarageYrBlt\"] = df[\"GarageYrBlt\"]\n",
        "    all_df[\"GarageYrBlt\"].fillna(0.0, inplace=True)\n",
        "\n",
        "    all_df[\"MoSold\"] = df[\"MoSold\"]\n",
        "    all_df[\"YrSold\"] = df[\"YrSold\"]\n",
        "\n",
        "    all_df[\"LowQualFinSF\"] = df[\"LowQualFinSF\"]\n",
        "    all_df[\"MiscVal\"] = df[\"MiscVal\"]\n",
        "\n",
        "   # df[\"PoolQC\"].fillna(\"NA\", inplace=True) #\n",
        "    all_df[\"PoolQC\"] = df[\"PoolQC\"].map(qual_dict).astype(int)#\n",
        "\n",
        "    all_df[\"PoolArea\"] = df[\"PoolArea\"]\n",
        "    all_df[\"PoolArea\"].fillna(0, inplace=True)\n",
        "\n",
        "    # Add categorical features as numbers too. It seems to help a bit.\n",
        "    all_df = factorize(df, all_df, \"MSSubClass\")\n",
        "    all_df = factorize(df, all_df, \"MSZoning\", \"RL\")\n",
        "    all_df = factorize(df, all_df, \"LotConfig\")\n",
        "    all_df = factorize(df, all_df, \"Neighborhood\")\n",
        "    all_df = factorize(df, all_df, \"Condition1\")\n",
        "    all_df = factorize(df, all_df, \"BldgType\")\n",
        "    all_df = factorize(df, all_df, \"HouseStyle\")\n",
        "    all_df = factorize(df, all_df, \"RoofStyle\")\n",
        "    all_df = factorize(df, all_df, \"Exterior1st\", \"Other\")\n",
        "    all_df = factorize(df, all_df, \"Exterior2nd\", \"Other\")\n",
        "    all_df = factorize(df, all_df, \"MasVnrType\", \"None\")\n",
        "    all_df = factorize(df, all_df, \"Foundation\")\n",
        "    all_df = factorize(df, all_df, \"SaleType\", \"Oth\")\n",
        "    all_df = factorize(df, all_df, \"SaleCondition\")\n",
        "\n",
        "    # IR2 and IR3 don't appear that often, so just make a distinction\n",
        "    # between regular and irregular.\n",
        "    all_df[\"IsRegularLotShape\"] = (df[\"LotShape\"] == \"Reg\") * 1\n",
        "\n",
        "    # Most properties are level; bin the other possibilities together\n",
        "    # as \"not level\".\n",
        "    all_df[\"IsLandLevel\"] = (df[\"LandContour\"] == \"Lvl\") * 1\n",
        "\n",
        "    # Most land slopes are gentle; treat the others as \"not gentle\".\n",
        "    all_df[\"IsLandSlopeGentle\"] = (df[\"LandSlope\"] == \"Gtl\") * 1\n",
        "\n",
        "    # Most properties use standard circuit breakers.\n",
        "    all_df[\"IsElectricalSBrkr\"] = (df[\"Electrical\"] == \"SBrkr\") * 1\n",
        "\n",
        "    # About 2/3rd have an attached garage.\n",
        "    all_df[\"IsGarageDetached\"] = (df[\"GarageType\"] == \"Detchd\") * 1\n",
        "\n",
        "    # Most have a paved drive. Treat dirt/gravel and partial pavement\n",
        "    # as \"not paved\".\n",
        "    all_df[\"IsPavedDrive\"] = (df[\"PavedDrive\"] == \"Y\") * 1\n",
        "\n",
        "    # The only interesting \"misc. feature\" is the presence of a shed.\n",
        "    all_df[\"HasShed\"] = (df[\"MiscFeature\"] == \"Shed\") * 1.\n",
        "\n",
        "    # If YearRemodAdd != YearBuilt, then a remodeling took place at some point.\n",
        "    all_df[\"Remodeled\"] = (all_df[\"YearRemodAdd\"] != all_df[\"YearBuilt\"]) * 1\n",
        "\n",
        "    # Did a remodeling happen in the year the house was sold?\n",
        "    all_df[\"RecentRemodel\"] = (all_df[\"YearRemodAdd\"] == all_df[\"YrSold\"]) * 1\n",
        "\n",
        "    # Was this house sold in the year it was built?\n",
        "    all_df[\"VeryNewHouse\"] = (all_df[\"YearBuilt\"] == all_df[\"YrSold\"]) * 1\n",
        "\n",
        "    all_df[\"Has2ndFloor\"] = (all_df[\"2ndFlrSF\"] == 0) * 1\n",
        "    all_df[\"HasMasVnr\"] = (all_df[\"MasVnrArea\"] == 0) * 1\n",
        "    all_df[\"HasWoodDeck\"] = (all_df[\"WoodDeckSF\"] == 0) * 1\n",
        "    all_df[\"HasOpenPorch\"] = (all_df[\"OpenPorchSF\"] == 0) * 1\n",
        "    all_df[\"HasEnclosedPorch\"] = (all_df[\"EnclosedPorch\"] == 0) * 1\n",
        "    all_df[\"Has3SsnPorch\"] = (all_df[\"3SsnPorch\"] == 0) * 1\n",
        "    all_df[\"HasScreenPorch\"] = (all_df[\"ScreenPorch\"] == 0) * 1\n",
        "\n",
        "    # These features actually lower the score a little.\n",
        "    # all_df[\"HasBasement\"] = df[\"BsmtQual\"].isnull() * 1\n",
        "    # all_df[\"HasGarage\"] = df[\"GarageQual\"].isnull() * 1\n",
        "    # all_df[\"HasFireplace\"] = df[\"FireplaceQu\"].isnull() * 1\n",
        "    # all_df[\"HasFence\"] = df[\"Fence\"].isnull() * 1\n",
        "\n",
        "    # Months with the largest number of deals may be significant.\n",
        "    all_df[\"HighSeason\"] = df[\"MoSold\"].replace(\n",
        "        {1: 0, 2: 0, 3: 0, 4: 1, 5: 1, 6: 1, 7: 1, 8: 0, 9: 0, 10: 0, 11: 0, 12: 0})\n",
        "\n",
        "    all_df[\"NewerDwelling\"] = df[\"MSSubClass\"].replace(\n",
        "        {20: 1, 30: 0, 40: 0, 45: 0,50: 0, 60: 1, 70: 0, 75: 0, 80: 0, 85: 0,\n",
        "         90: 0, 120: 1, 150: 0, 160: 0, 180: 0, 190: 0})\n",
        "\n",
        "    all_df.loc[df.Neighborhood == 'NridgHt', \"Neighborhood_Good\"] = 1\n",
        "    all_df.loc[df.Neighborhood == 'Crawfor', \"Neighborhood_Good\"] = 1\n",
        "    all_df.loc[df.Neighborhood == 'StoneBr', \"Neighborhood_Good\"] = 1\n",
        "    all_df.loc[df.Neighborhood == 'Somerst', \"Neighborhood_Good\"] = 1\n",
        "    all_df.loc[df.Neighborhood == 'NoRidge', \"Neighborhood_Good\"] = 1\n",
        "    all_df[\"Neighborhood_Good\"].fillna(0, inplace=True)\n",
        "\n",
        "    all_df[\"SaleCondition_PriceDown\"] = df.SaleCondition.replace(\n",
        "        {'Abnorml': 1, 'Alloca': 1, 'AdjLand': 1, 'Family': 1, 'Normal': 0, 'Partial': 0})\n",
        "\n",
        "    # House completed before sale or not\n",
        "    all_df[\"BoughtOffPlan\"] = df.SaleCondition.replace(\n",
        "        {\"Abnorml\" : 0, \"Alloca\" : 0, \"AdjLand\" : 0, \"Family\" : 0, \"Normal\" : 0, \"Partial\" : 1})\n",
        "\n",
        "    all_df[\"BadHeating\"] = df.HeatingQC.replace(\n",
        "        {'Ex': 0, 'Gd': 0, 'TA': 0, 'Fa': 1, 'Po': 1})\n",
        "\n",
        "    area_cols = ['LotFrontage', 'LotArea', 'MasVnrArea', 'BsmtFinSF1', 'BsmtFinSF2', 'BsmtUnfSF',\n",
        "                 'TotalBsmtSF', '1stFlrSF', '2ndFlrSF', 'GrLivArea', 'GarageArea', 'WoodDeckSF',\n",
        "                 'OpenPorchSF', 'EnclosedPorch', '3SsnPorch', 'ScreenPorch', 'LowQualFinSF', 'PoolArea' ]\n",
        "    all_df[\"TotalArea\"] = all_df[area_cols].sum(axis=1)\n",
        "\n",
        "    all_df[\"TotalArea1st2nd\"] = all_df[\"1stFlrSF\"] + all_df[\"2ndFlrSF\"]\n",
        "\n",
        "    all_df[\"Age\"] = 2010 - all_df[\"YearBuilt\"]\n",
        "    all_df[\"TimeSinceSold\"] = 2010 - all_df[\"YrSold\"]\n",
        "\n",
        "    all_df[\"SeasonSold\"] = all_df[\"MoSold\"].map({12:0, 1:0, 2:0, 3:1, 4:1, 5:1,\n",
        "                                                  6:2, 7:2, 8:2, 9:3, 10:3, 11:3}).astype(int)\n",
        "\n",
        "    all_df[\"YearsSinceRemodel\"] = all_df[\"YrSold\"] - all_df[\"YearRemodAdd\"]\n",
        "\n",
        "    # Simplifications of existing features into bad/average/good.\n",
        "    all_df[\"SimplOverallQual\"] = all_df.OverallQual.replace(\n",
        "        {1 : 1, 2 : 1, 3 : 1, 4 : 2, 5 : 2, 6 : 2, 7 : 3, 8 : 3, 9 : 3, 10 : 3})\n",
        "    all_df[\"SimplOverallCond\"] = all_df.OverallCond.replace(\n",
        "        {1 : 1, 2 : 1, 3 : 1, 4 : 2, 5 : 2, 6 : 2, 7 : 3, 8 : 3, 9 : 3, 10 : 3})\n",
        "    all_df[\"SimplPoolQC\"] = all_df.PoolQC.replace(\n",
        "        {1 : 1, 2 : 1, 3 : 2, 4 : 2})\n",
        "    all_df[\"SimplGarageCond\"] = all_df.GarageCond.replace(\n",
        "        {1 : 1, 2 : 1, 3 : 1, 4 : 2, 5 : 2})\n",
        "    all_df[\"SimplGarageQual\"] = all_df.GarageQual.replace(\n",
        "        {1 : 1, 2 : 1, 3 : 1, 4 : 2, 5 : 2})\n",
        "    all_df[\"SimplFireplaceQu\"] = all_df.FireplaceQu.replace(\n",
        "        {1 : 1, 2 : 1, 3 : 1, 4 : 2, 5 : 2})\n",
        "    all_df[\"SimplFireplaceQu\"] = all_df.FireplaceQu.replace(\n",
        "        {1 : 1, 2 : 1, 3 : 1, 4 : 2, 5 : 2})\n",
        "    all_df[\"SimplFunctional\"] = all_df.Functional.replace(\n",
        "        {1 : 1, 2 : 1, 3 : 2, 4 : 2, 5 : 3, 6 : 3, 7 : 3, 8 : 4})\n",
        "    all_df[\"SimplKitchenQual\"] = all_df.KitchenQual.replace(\n",
        "        {1 : 1, 2 : 1, 3 : 1, 4 : 2, 5 : 2})\n",
        "    all_df[\"SimplHeatingQC\"] = all_df.HeatingQC.replace(\n",
        "        {1 : 1, 2 : 1, 3 : 1, 4 : 2, 5 : 2})\n",
        "    all_df[\"SimplBsmtFinType1\"] = all_df.BsmtFinType1.replace(\n",
        "        {1 : 1, 2 : 1, 3 : 1, 4 : 2, 5 : 2, 6 : 2})\n",
        "    all_df[\"SimplBsmtFinType2\"] = all_df.BsmtFinType2.replace(\n",
        "        {1 : 1, 2 : 1, 3 : 1, 4 : 2, 5 : 2, 6 : 2})\n",
        "    all_df[\"SimplBsmtCond\"] = all_df.BsmtCond.replace(\n",
        "        {1 : 1, 2 : 1, 3 : 1, 4 : 2, 5 : 2})\n",
        "    all_df[\"SimplBsmtQual\"] = all_df.BsmtQual.replace(\n",
        "        {1 : 1, 2 : 1, 3 : 1, 4 : 2, 5 : 2})\n",
        "    all_df[\"SimplExterCond\"] = all_df.ExterCond.replace(\n",
        "        {1 : 1, 2 : 1, 3 : 1, 4 : 2, 5 : 2})\n",
        "    all_df[\"SimplExterQual\"] = all_df.ExterQual.replace(\n",
        "        {1 : 1, 2 : 1, 3 : 1, 4 : 2, 5 : 2})\n",
        "\n",
        "    # Bin by neighborhood (a little arbitrarily). Values were computed by:\n",
        "    # train_df[\"SalePrice\"].groupby(train_df[\"Neighborhood\"]).median().sort_values()\n",
        "    neighborhood_map = {\n",
        "        \"MeadowV\" : 0,  #  88000\n",
        "        \"IDOTRR\" : 1,   # 103000\n",
        "        \"BrDale\" : 1,   # 106000\n",
        "        \"OldTown\" : 1,  # 119000\n",
        "        \"Edwards\" : 1,  # 119500\n",
        "        \"BrkSide\" : 1,  # 124300\n",
        "        \"Sawyer\" : 1,   # 135000\n",
        "        \"Blueste\" : 1,  # 137500\n",
        "        \"SWISU\" : 2,    # 139500\n",
        "        \"NAmes\" : 2,    # 140000\n",
        "        \"NPkVill\" : 2,  # 146000\n",
        "        \"Mitchel\" : 2,  # 153500\n",
        "        \"SawyerW\" : 2,  # 179900\n",
        "        \"Gilbert\" : 2,  # 181000\n",
        "        \"NWAmes\" : 2,   # 182900\n",
        "        \"Blmngtn\" : 2,  # 191000\n",
        "        \"CollgCr\" : 2,  # 197200\n",
        "        \"ClearCr\" : 3,  # 200250\n",
        "        \"Crawfor\" : 3,  # 200624\n",
        "        \"Veenker\" : 3,  # 218000\n",
        "        \"Somerst\" : 3,  # 225500\n",
        "        \"Timber\" : 3,   # 228475\n",
        "        \"StoneBr\" : 4,  # 278000\n",
        "        \"NoRidge\" : 4,  # 290000\n",
        "        \"NridgHt\" : 4,  # 315000\n",
        "    }\n",
        "\n",
        "    all_df[\"NeighborhoodBin\"] = df[\"Neighborhood\"].map(neighborhood_map)\n",
        "    return all_df\n",
        "\n",
        "train_df_munged = munge(train_df)\n",
        "test_df_munged = munge(test_df)\n",
        "\n",
        "print(train_df_munged.shape)\n",
        "print(test_df_munged.shape)\n",
        "\n",
        "# Copy NeighborhoodBin into a temporary DataFrame because we want to use the\n",
        "# unscaled version later on (to one-hot encode it).\n",
        "neighborhood_bin_train = pd.DataFrame(index = train_df.index)\n",
        "neighborhood_bin_train[\"NeighborhoodBin\"] = train_df_munged[\"NeighborhoodBin\"]\n",
        "neighborhood_bin_test = pd.DataFrame(index = test_df.index)\n",
        "neighborhood_bin_test[\"NeighborhoodBin\"] = test_df_munged[\"NeighborhoodBin\"]\n",
        "\n",
        "################################################################################\n",
        "\n",
        "numeric_features = train_df_munged.dtypes[train_df_munged.dtypes != \"object\"].index\n",
        "\n",
        "# Transform the skewed numeric features by taking log(feature + 1).\n",
        "# This will make the features more normal.\n",
        "from scipy.stats import skew\n",
        "\n",
        "skewed = train_df_munged[numeric_features].apply(lambda x: skew(x.dropna().astype(float)))\n",
        "skewed = skewed[skewed > 0.75]\n",
        "skewed = skewed.index\n",
        "\n",
        "train_df_munged[skewed] = np.log1p(train_df_munged[skewed])\n",
        "test_df_munged[skewed] = np.log1p(test_df_munged[skewed])\n",
        "\n",
        "# Additional processing: scale the data.\n",
        "from sklearn.preprocessing import StandardScaler\n",
        "scaler = StandardScaler()\n",
        "scaler.fit(train_df_munged[numeric_features])\n",
        "\n",
        "scaled = scaler.transform(train_df_munged[numeric_features])\n",
        "for i, col in enumerate(numeric_features):\n",
        "    train_df_munged[col] = scaled[:, i]\n",
        "\n",
        "scaled = scaler.transform(test_df_munged[numeric_features])\n",
        "for i, col in enumerate(numeric_features):\n",
        "    test_df_munged[col] = scaled[:, i]\n",
        "\n",
        "################################################################################\n",
        "\n",
        "# Convert categorical features using one-hot encoding.\n",
        "def onehot(onehot_df, df, column_name, fill_na, drop_name):\n",
        "    onehot_df[column_name] = df[column_name]\n",
        "    if fill_na is not None:\n",
        "        onehot_df[column_name].fillna(fill_na, inplace=True)\n",
        "\n",
        "    dummies = pd.get_dummies(onehot_df[column_name], prefix=\"_\" + column_name)\n",
        "\n",
        "    # Dropping one of the columns actually made the results slightly worse.\n",
        "    # if drop_name is not None:\n",
        "    #     dummies.drop([\"_\" + column_name + \"_\" + drop_name], axis=1, inplace=True)\n",
        "\n",
        "    onehot_df = onehot_df.join(dummies)\n",
        "    onehot_df = onehot_df.drop([column_name], axis=1)\n",
        "    return onehot_df\n",
        "\n",
        "def munge_onehot(df):\n",
        "    onehot_df = pd.DataFrame(index = df.index)\n",
        "\n",
        "    onehot_df = onehot(onehot_df, df, \"MSSubClass\", None, \"40\")\n",
        "    onehot_df = onehot(onehot_df, df, \"MSZoning\", \"RL\", \"RH\")\n",
        "    onehot_df = onehot(onehot_df, df, \"LotConfig\", None, \"FR3\")\n",
        "    onehot_df = onehot(onehot_df, df, \"Neighborhood\", None, \"OldTown\")\n",
        "    onehot_df = onehot(onehot_df, df, \"Condition1\", None, \"RRNe\")\n",
        "    onehot_df = onehot(onehot_df, df, \"BldgType\", None, \"2fmCon\")\n",
        "    onehot_df = onehot(onehot_df, df, \"HouseStyle\", None, \"1.5Unf\")\n",
        "    onehot_df = onehot(onehot_df, df, \"RoofStyle\", None, \"Shed\")\n",
        "    onehot_df = onehot(onehot_df, df, \"Exterior1st\", \"VinylSd\", \"CBlock\")\n",
        "    onehot_df = onehot(onehot_df, df, \"Exterior2nd\", \"VinylSd\", \"CBlock\")\n",
        "    onehot_df = onehot(onehot_df, df, \"Foundation\", None, \"Wood\")\n",
        "    onehot_df = onehot(onehot_df, df, \"SaleType\", \"WD\", \"Oth\")\n",
        "    onehot_df = onehot(onehot_df, df, \"SaleCondition\", \"Normal\", \"AdjLand\")\n",
        "\n",
        "    # Fill in missing MasVnrType for rows that do have a MasVnrArea.\n",
        "    temp_df = df[[\"MasVnrType\", \"MasVnrArea\"]].copy()\n",
        "    idx = (df[\"MasVnrArea\"] != 0) & ((df[\"MasVnrType\"] == \"None\") | (df[\"MasVnrType\"].isnull()))\n",
        "    temp_df.loc[idx, \"MasVnrType\"] = \"BrkFace\"\n",
        "    onehot_df = onehot(onehot_df, temp_df, \"MasVnrType\", \"None\", \"BrkCmn\")\n",
        "\n",
        "    # Also add the booleans from calc_df as dummy variables.\n",
        "    onehot_df = onehot(onehot_df, df, \"LotShape\", None, \"IR3\")\n",
        "    onehot_df = onehot(onehot_df, df, \"LandContour\", None, \"Low\")\n",
        "    onehot_df = onehot(onehot_df, df, \"LandSlope\", None, \"Sev\")\n",
        "    onehot_df = onehot(onehot_df, df, \"Electrical\", \"SBrkr\", \"FuseP\")\n",
        "    onehot_df = onehot(onehot_df, df, \"GarageType\", \"None\", \"CarPort\")\n",
        "    onehot_df = onehot(onehot_df, df, \"PavedDrive\", None, \"P\")\n",
        "    onehot_df = onehot(onehot_df, df, \"MiscFeature\", \"None\", \"Othr\")\n",
        "\n",
        "    # Features we can probably ignore (but want to include anyway to see\n",
        "    # if they make any positive difference).\n",
        "    # Definitely ignoring Utilities: all records are \"AllPub\", except for\n",
        "    # one \"NoSeWa\" in the train set and 2 NA in the test set.\n",
        "    onehot_df = onehot(onehot_df, df, \"Street\", None, \"Grvl\")\n",
        "    onehot_df = onehot(onehot_df, df, \"Alley\", \"None\", \"Grvl\")\n",
        "    onehot_df = onehot(onehot_df, df, \"Condition2\", None, \"PosA\")\n",
        "    onehot_df = onehot(onehot_df, df, \"RoofMatl\", None, \"WdShake\")\n",
        "    onehot_df = onehot(onehot_df, df, \"Heating\", None, \"Wall\")\n",
        "\n",
        "    # I have these as numerical variables too.\n",
        "    onehot_df = onehot(onehot_df, df, \"ExterQual\", \"None\", \"Ex\")\n",
        "    onehot_df = onehot(onehot_df, df, \"ExterCond\", \"None\", \"Ex\")\n",
        "    onehot_df = onehot(onehot_df, df, \"BsmtQual\", \"None\", \"Ex\")\n",
        "    onehot_df = onehot(onehot_df, df, \"BsmtCond\", \"None\", \"Ex\")\n",
        "    onehot_df = onehot(onehot_df, df, \"HeatingQC\", \"None\", \"Ex\")\n",
        "    onehot_df = onehot(onehot_df, df, \"KitchenQual\", \"TA\", \"Ex\")\n",
        "    onehot_df = onehot(onehot_df, df, \"FireplaceQu\", \"None\", \"Ex\")\n",
        "    onehot_df = onehot(onehot_df, df, \"GarageQual\", \"None\", \"Ex\")\n",
        "    onehot_df = onehot(onehot_df, df, \"GarageCond\", \"None\", \"Ex\")\n",
        "    onehot_df = onehot(onehot_df, df, \"PoolQC\", \"None\", \"Ex\")\n",
        "    onehot_df = onehot(onehot_df, df, \"BsmtExposure\", \"None\", \"Gd\")\n",
        "    onehot_df = onehot(onehot_df, df, \"BsmtFinType1\", \"None\", \"GLQ\")\n",
        "    onehot_df = onehot(onehot_df, df, \"BsmtFinType2\", \"None\", \"GLQ\")\n",
        "    onehot_df = onehot(onehot_df, df, \"Functional\", \"Typ\", \"Typ\")\n",
        "    onehot_df = onehot(onehot_df, df, \"GarageFinish\", \"None\", \"Fin\")\n",
        "    onehot_df = onehot(onehot_df, df, \"Fence\", \"None\", \"MnPrv\")\n",
        "    onehot_df = onehot(onehot_df, df, \"MoSold\", None, None)\n",
        "\n",
        "    # Divide up the years between 1871 and 2010 in slices of 20 years.\n",
        "    year_map = pd.concat(pd.Series(\"YearBin\" + str(i+1), index=range(1871+i*20,1891+i*20)) for i in range(0, 7))\n",
        "\n",
        "    yearbin_df = pd.DataFrame(index = df.index)\n",
        "    yearbin_df[\"GarageYrBltBin\"] = df.GarageYrBlt.map(year_map)\n",
        "    yearbin_df[\"GarageYrBltBin\"].fillna(\"NoGarage\", inplace=True)\n",
        "\n",
        "    yearbin_df[\"YearBuiltBin\"] = df.YearBuilt.map(year_map)\n",
        "    yearbin_df[\"YearRemodAddBin\"] = df.YearRemodAdd.map(year_map)\n",
        "\n",
        "    onehot_df = onehot(onehot_df, yearbin_df, \"GarageYrBltBin\", None, None)\n",
        "    onehot_df = onehot(onehot_df, yearbin_df, \"YearBuiltBin\", None, None)\n",
        "    onehot_df = onehot(onehot_df, yearbin_df, \"YearRemodAddBin\", None, None)\n",
        "\n",
        "    return onehot_df\n",
        "\n",
        "# Add the one-hot encoded categorical features.\n",
        "onehot_df = munge_onehot(train_df)\n",
        "onehot_df = onehot(onehot_df, neighborhood_bin_train, \"NeighborhoodBin\", None, None)\n",
        "train_df_munged = train_df_munged.join(onehot_df)\n",
        "\n",
        "# These onehot columns are missing in the test data, so drop them from the\n",
        "# training data or we might overfit on them.\n",
        "drop_cols = [\n",
        "                \"_Exterior1st_ImStucc\", \"_Exterior1st_Stone\",\n",
        "                \"_Exterior2nd_Other\",\"_HouseStyle_2.5Fin\",\n",
        "\n",
        "                \"_RoofMatl_Membran\", \"_RoofMatl_Metal\", \"_RoofMatl_Roll\",\n",
        "                \"_Condition2_RRAe\", \"_Condition2_RRAn\", \"_Condition2_RRNn\",\n",
        "                \"_Heating_Floor\", \"_Heating_OthW\",\n",
        "\n",
        "                \"_Electrical_Mix\",\n",
        "                \"_MiscFeature_TenC\",\n",
        "                \"_GarageQual_Ex\", \"_PoolQC_Fa\"\n",
        "            ]\n",
        "train_df_munged.drop(drop_cols, axis=1, inplace=True)\n",
        "\n",
        "onehot_df = munge_onehot(test_df)\n",
        "onehot_df = onehot(onehot_df, neighborhood_bin_test, \"NeighborhoodBin\", None, None)\n",
        "test_df_munged = test_df_munged.join(onehot_df)\n",
        "\n",
        "# This column is missing in the training data. There is only one example with\n",
        "# this value in the test set. So just drop it.\n",
        "test_df_munged.drop([\"_MSSubClass_150\"], axis=1, inplace=True)\n",
        "\n",
        "# Drop these columns. They are either not very helpful or they cause overfitting.\n",
        "drop_cols = [\n",
        "    \"_Condition2_PosN\",    # only two are not zero\n",
        "    \"_MSZoning_C (all)\",\n",
        "    \"_MSSubClass_160\",\n",
        "]\n",
        "train_df_munged.drop(drop_cols, axis=1, inplace=True)\n",
        "test_df_munged.drop(drop_cols, axis=1, inplace=True)\n",
        "\n",
        "################################################################################\n",
        "\n",
        "# We take the log here because the error metric is between the log of the\n",
        "# SalePrice and the log of the predicted price. That does mean we need to\n",
        "# exp() the prediction to get an actual sale price.\n",
        "label_df = pd.DataFrame(index = train_df_munged.index, columns=[\"SalePrice\"])\n",
        "label_df[\"SalePrice\"] = np.log(train_df[\"SalePrice\"])\n",
        "\n",
        "print(\"Training set size:\", train_df_munged.shape)\n",
        "print(\"Test set size:\", test_df_munged.shape)\n",
        "y_train = label_df[\"SalePrice\"].values"
      ],
      "metadata": {
        "_uuid": "8f2839f25d086af736a60e9eeb907d3b93b6e0e5",
        "_cell_guid": "b1076dfc-b9ad-4769-8c92-a6c4dae69d19",
        "execution": {
          "iopub.status.busy": "2024-04-29T12:27:02.746416Z",
          "iopub.execute_input": "2024-04-29T12:27:02.746983Z",
          "iopub.status.idle": "2024-04-29T12:27:03.955791Z",
          "shell.execute_reply.started": "2024-04-29T12:27:02.746951Z",
          "shell.execute_reply": "2024-04-29T12:27:03.954544Z"
        },
        "trusted": true,
        "id": "NO_5pBkyfwLD",
        "outputId": "86da5209-c4be-4a67-8106-a618350d5dc9"
      },
      "execution_count": null,
      "outputs": [
        {
          "name": "stderr",
          "text": "/tmp/ipykernel_33/881269123.py:27: FutureWarning: A value is trying to be set on a copy of a DataFrame or Series through chained assignment using an inplace method.\nThe behavior will change in pandas 3.0. This inplace method will never work because the intermediate object on which we are setting values always behaves as a copy.\n\nFor example, when doing 'df[col].method(value, inplace=True)', try using 'df.method({col: value}, inplace=True)' or df[col] = df[col].method(value) instead, to perform the operation inplace on the original object.\n\n\n  all_df[\"MasVnrArea\"].fillna(0, inplace=True)\n/tmp/ipykernel_33/881269123.py:30: FutureWarning: A value is trying to be set on a copy of a DataFrame or Series through chained assignment using an inplace method.\nThe behavior will change in pandas 3.0. This inplace method will never work because the intermediate object on which we are setting values always behaves as a copy.\n\nFor example, when doing 'df[col].method(value, inplace=True)', try using 'df.method({col: value}, inplace=True)' or df[col] = df[col].method(value) instead, to perform the operation inplace on the original object.\n\n\n  all_df[\"BsmtFinSF1\"].fillna(0, inplace=True)\n/tmp/ipykernel_33/881269123.py:33: FutureWarning: A value is trying to be set on a copy of a DataFrame or Series through chained assignment using an inplace method.\nThe behavior will change in pandas 3.0. This inplace method will never work because the intermediate object on which we are setting values always behaves as a copy.\n\nFor example, when doing 'df[col].method(value, inplace=True)', try using 'df.method({col: value}, inplace=True)' or df[col] = df[col].method(value) instead, to perform the operation inplace on the original object.\n\n\n  all_df[\"BsmtFinSF2\"].fillna(0, inplace=True)\n/tmp/ipykernel_33/881269123.py:36: FutureWarning: A value is trying to be set on a copy of a DataFrame or Series through chained assignment using an inplace method.\nThe behavior will change in pandas 3.0. This inplace method will never work because the intermediate object on which we are setting values always behaves as a copy.\n\nFor example, when doing 'df[col].method(value, inplace=True)', try using 'df.method({col: value}, inplace=True)' or df[col] = df[col].method(value) instead, to perform the operation inplace on the original object.\n\n\n  all_df[\"BsmtUnfSF\"].fillna(0, inplace=True)\n/tmp/ipykernel_33/881269123.py:39: FutureWarning: A value is trying to be set on a copy of a DataFrame or Series through chained assignment using an inplace method.\nThe behavior will change in pandas 3.0. This inplace method will never work because the intermediate object on which we are setting values always behaves as a copy.\n\nFor example, when doing 'df[col].method(value, inplace=True)', try using 'df.method({col: value}, inplace=True)' or df[col] = df[col].method(value) instead, to perform the operation inplace on the original object.\n\n\n  all_df[\"TotalBsmtSF\"].fillna(0, inplace=True)\n/tmp/ipykernel_33/881269123.py:46: FutureWarning: A value is trying to be set on a copy of a DataFrame or Series through chained assignment using an inplace method.\nThe behavior will change in pandas 3.0. This inplace method will never work because the intermediate object on which we are setting values always behaves as a copy.\n\nFor example, when doing 'df[col].method(value, inplace=True)', try using 'df.method({col: value}, inplace=True)' or df[col] = df[col].method(value) instead, to perform the operation inplace on the original object.\n\n\n  all_df[\"GarageArea\"].fillna(0, inplace=True)\n/tmp/ipykernel_33/881269123.py:55: FutureWarning: A value is trying to be set on a copy of a DataFrame or Series through chained assignment using an inplace method.\nThe behavior will change in pandas 3.0. This inplace method will never work because the intermediate object on which we are setting values always behaves as a copy.\n\nFor example, when doing 'df[col].method(value, inplace=True)', try using 'df.method({col: value}, inplace=True)' or df[col] = df[col].method(value) instead, to perform the operation inplace on the original object.\n\n\n  all_df[\"BsmtFullBath\"].fillna(0, inplace=True)\n/tmp/ipykernel_33/881269123.py:58: FutureWarning: A value is trying to be set on a copy of a DataFrame or Series through chained assignment using an inplace method.\nThe behavior will change in pandas 3.0. This inplace method will never work because the intermediate object on which we are setting values always behaves as a copy.\n\nFor example, when doing 'df[col].method(value, inplace=True)', try using 'df.method({col: value}, inplace=True)' or df[col] = df[col].method(value) instead, to perform the operation inplace on the original object.\n\n\n  all_df[\"BsmtHalfBath\"].fillna(0, inplace=True)\n/tmp/ipykernel_33/881269123.py:68: FutureWarning: A value is trying to be set on a copy of a DataFrame or Series through chained assignment using an inplace method.\nThe behavior will change in pandas 3.0. This inplace method will never work because the intermediate object on which we are setting values always behaves as a copy.\n\nFor example, when doing 'df[col].method(value, inplace=True)', try using 'df.method({col: value}, inplace=True)' or df[col] = df[col].method(value) instead, to perform the operation inplace on the original object.\n\n\n  all_df[\"GarageCars\"].fillna(0, inplace=True)\n/tmp/ipykernel_33/881269123.py:118: FutureWarning: A value is trying to be set on a copy of a DataFrame or Series through chained assignment using an inplace method.\nThe behavior will change in pandas 3.0. This inplace method will never work because the intermediate object on which we are setting values always behaves as a copy.\n\nFor example, when doing 'df[col].method(value, inplace=True)', try using 'df.method({col: value}, inplace=True)' or df[col] = df[col].method(value) instead, to perform the operation inplace on the original object.\n\n\n  all_df[\"GarageYrBlt\"].fillna(0.0, inplace=True)\n/tmp/ipykernel_33/881269123.py:130: FutureWarning: A value is trying to be set on a copy of a DataFrame or Series through chained assignment using an inplace method.\nThe behavior will change in pandas 3.0. This inplace method will never work because the intermediate object on which we are setting values always behaves as a copy.\n\nFor example, when doing 'df[col].method(value, inplace=True)', try using 'df.method({col: value}, inplace=True)' or df[col] = df[col].method(value) instead, to perform the operation inplace on the original object.\n\n\n  all_df[\"PoolArea\"].fillna(0, inplace=True)\n/tmp/ipykernel_33/881269123.py:9: FutureWarning: A value is trying to be set on a copy of a DataFrame or Series through chained assignment using an inplace method.\nThe behavior will change in pandas 3.0. This inplace method will never work because the intermediate object on which we are setting values always behaves as a copy.\n\nFor example, when doing 'df[col].method(value, inplace=True)', try using 'df.method({col: value}, inplace=True)' or df[col] = df[col].method(value) instead, to perform the operation inplace on the original object.\n\n\n  factor_df[column].fillna(fill_na, inplace=True)\n/tmp/ipykernel_33/881269123.py:9: FutureWarning: A value is trying to be set on a copy of a DataFrame or Series through chained assignment using an inplace method.\nThe behavior will change in pandas 3.0. This inplace method will never work because the intermediate object on which we are setting values always behaves as a copy.\n\nFor example, when doing 'df[col].method(value, inplace=True)', try using 'df.method({col: value}, inplace=True)' or df[col] = df[col].method(value) instead, to perform the operation inplace on the original object.\n\n\n  factor_df[column].fillna(fill_na, inplace=True)\n/tmp/ipykernel_33/881269123.py:9: FutureWarning: A value is trying to be set on a copy of a DataFrame or Series through chained assignment using an inplace method.\nThe behavior will change in pandas 3.0. This inplace method will never work because the intermediate object on which we are setting values always behaves as a copy.\n\nFor example, when doing 'df[col].method(value, inplace=True)', try using 'df.method({col: value}, inplace=True)' or df[col] = df[col].method(value) instead, to perform the operation inplace on the original object.\n\n\n  factor_df[column].fillna(fill_na, inplace=True)\n/tmp/ipykernel_33/881269123.py:9: FutureWarning: A value is trying to be set on a copy of a DataFrame or Series through chained assignment using an inplace method.\nThe behavior will change in pandas 3.0. This inplace method will never work because the intermediate object on which we are setting values always behaves as a copy.\n\nFor example, when doing 'df[col].method(value, inplace=True)', try using 'df.method({col: value}, inplace=True)' or df[col] = df[col].method(value) instead, to perform the operation inplace on the original object.\n\n\n  factor_df[column].fillna(fill_na, inplace=True)\n/tmp/ipykernel_33/881269123.py:9: FutureWarning: A value is trying to be set on a copy of a DataFrame or Series through chained assignment using an inplace method.\nThe behavior will change in pandas 3.0. This inplace method will never work because the intermediate object on which we are setting values always behaves as a copy.\n\nFor example, when doing 'df[col].method(value, inplace=True)', try using 'df.method({col: value}, inplace=True)' or df[col] = df[col].method(value) instead, to perform the operation inplace on the original object.\n\n\n  factor_df[column].fillna(fill_na, inplace=True)\n/tmp/ipykernel_33/881269123.py:208: FutureWarning: A value is trying to be set on a copy of a DataFrame or Series through chained assignment using an inplace method.\nThe behavior will change in pandas 3.0. This inplace method will never work because the intermediate object on which we are setting values always behaves as a copy.\n\nFor example, when doing 'df[col].method(value, inplace=True)', try using 'df.method({col: value}, inplace=True)' or df[col] = df[col].method(value) instead, to perform the operation inplace on the original object.\n\n\n  all_df[\"Neighborhood_Good\"].fillna(0, inplace=True)\n/tmp/ipykernel_33/881269123.py:210: FutureWarning: Downcasting behavior in `replace` is deprecated and will be removed in a future version. To retain the old behavior, explicitly call `result.infer_objects(copy=False)`. To opt-in to the future behavior, set `pd.set_option('future.no_silent_downcasting', True)`\n  all_df[\"SaleCondition_PriceDown\"] = df.SaleCondition.replace(\n/tmp/ipykernel_33/881269123.py:214: FutureWarning: Downcasting behavior in `replace` is deprecated and will be removed in a future version. To retain the old behavior, explicitly call `result.infer_objects(copy=False)`. To opt-in to the future behavior, set `pd.set_option('future.no_silent_downcasting', True)`\n  all_df[\"BoughtOffPlan\"] = df.SaleCondition.replace(\n/tmp/ipykernel_33/881269123.py:217: FutureWarning: Downcasting behavior in `replace` is deprecated and will be removed in a future version. To retain the old behavior, explicitly call `result.infer_objects(copy=False)`. To opt-in to the future behavior, set `pd.set_option('future.no_silent_downcasting', True)`\n  all_df[\"BadHeating\"] = df.HeatingQC.replace(\n/tmp/ipykernel_33/881269123.py:246: PerformanceWarning: DataFrame is highly fragmented.  This is usually the result of calling `frame.insert` many times, which has poor performance.  Consider joining all columns at once using pd.concat(axis=1) instead. To get a de-fragmented frame, use `newframe = frame.copy()`\n  all_df[\"SimplFireplaceQu\"] = all_df.FireplaceQu.replace(\n/tmp/ipykernel_33/881269123.py:250: PerformanceWarning: DataFrame is highly fragmented.  This is usually the result of calling `frame.insert` many times, which has poor performance.  Consider joining all columns at once using pd.concat(axis=1) instead. To get a de-fragmented frame, use `newframe = frame.copy()`\n  all_df[\"SimplFunctional\"] = all_df.Functional.replace(\n/tmp/ipykernel_33/881269123.py:252: PerformanceWarning: DataFrame is highly fragmented.  This is usually the result of calling `frame.insert` many times, which has poor performance.  Consider joining all columns at once using pd.concat(axis=1) instead. To get a de-fragmented frame, use `newframe = frame.copy()`\n  all_df[\"SimplKitchenQual\"] = all_df.KitchenQual.replace(\n/tmp/ipykernel_33/881269123.py:254: PerformanceWarning: DataFrame is highly fragmented.  This is usually the result of calling `frame.insert` many times, which has poor performance.  Consider joining all columns at once using pd.concat(axis=1) instead. To get a de-fragmented frame, use `newframe = frame.copy()`\n  all_df[\"SimplHeatingQC\"] = all_df.HeatingQC.replace(\n/tmp/ipykernel_33/881269123.py:256: PerformanceWarning: DataFrame is highly fragmented.  This is usually the result of calling `frame.insert` many times, which has poor performance.  Consider joining all columns at once using pd.concat(axis=1) instead. To get a de-fragmented frame, use `newframe = frame.copy()`\n  all_df[\"SimplBsmtFinType1\"] = all_df.BsmtFinType1.replace(\n/tmp/ipykernel_33/881269123.py:258: PerformanceWarning: DataFrame is highly fragmented.  This is usually the result of calling `frame.insert` many times, which has poor performance.  Consider joining all columns at once using pd.concat(axis=1) instead. To get a de-fragmented frame, use `newframe = frame.copy()`\n  all_df[\"SimplBsmtFinType2\"] = all_df.BsmtFinType2.replace(\n/tmp/ipykernel_33/881269123.py:260: PerformanceWarning: DataFrame is highly fragmented.  This is usually the result of calling `frame.insert` many times, which has poor performance.  Consider joining all columns at once using pd.concat(axis=1) instead. To get a de-fragmented frame, use `newframe = frame.copy()`\n  all_df[\"SimplBsmtCond\"] = all_df.BsmtCond.replace(\n/tmp/ipykernel_33/881269123.py:262: PerformanceWarning: DataFrame is highly fragmented.  This is usually the result of calling `frame.insert` many times, which has poor performance.  Consider joining all columns at once using pd.concat(axis=1) instead. To get a de-fragmented frame, use `newframe = frame.copy()`\n  all_df[\"SimplBsmtQual\"] = all_df.BsmtQual.replace(\n/tmp/ipykernel_33/881269123.py:264: PerformanceWarning: DataFrame is highly fragmented.  This is usually the result of calling `frame.insert` many times, which has poor performance.  Consider joining all columns at once using pd.concat(axis=1) instead. To get a de-fragmented frame, use `newframe = frame.copy()`\n  all_df[\"SimplExterCond\"] = all_df.ExterCond.replace(\n/tmp/ipykernel_33/881269123.py:266: PerformanceWarning: DataFrame is highly fragmented.  This is usually the result of calling `frame.insert` many times, which has poor performance.  Consider joining all columns at once using pd.concat(axis=1) instead. To get a de-fragmented frame, use `newframe = frame.copy()`\n  all_df[\"SimplExterQual\"] = all_df.ExterQual.replace(\n/tmp/ipykernel_33/881269123.py:299: PerformanceWarning: DataFrame is highly fragmented.  This is usually the result of calling `frame.insert` many times, which has poor performance.  Consider joining all columns at once using pd.concat(axis=1) instead. To get a de-fragmented frame, use `newframe = frame.copy()`\n  all_df[\"NeighborhoodBin\"] = df[\"Neighborhood\"].map(neighborhood_map)\n/tmp/ipykernel_33/881269123.py:27: FutureWarning: A value is trying to be set on a copy of a DataFrame or Series through chained assignment using an inplace method.\nThe behavior will change in pandas 3.0. This inplace method will never work because the intermediate object on which we are setting values always behaves as a copy.\n\nFor example, when doing 'df[col].method(value, inplace=True)', try using 'df.method({col: value}, inplace=True)' or df[col] = df[col].method(value) instead, to perform the operation inplace on the original object.\n\n\n  all_df[\"MasVnrArea\"].fillna(0, inplace=True)\n/tmp/ipykernel_33/881269123.py:30: FutureWarning: A value is trying to be set on a copy of a DataFrame or Series through chained assignment using an inplace method.\nThe behavior will change in pandas 3.0. This inplace method will never work because the intermediate object on which we are setting values always behaves as a copy.\n\nFor example, when doing 'df[col].method(value, inplace=True)', try using 'df.method({col: value}, inplace=True)' or df[col] = df[col].method(value) instead, to perform the operation inplace on the original object.\n\n\n  all_df[\"BsmtFinSF1\"].fillna(0, inplace=True)\n/tmp/ipykernel_33/881269123.py:33: FutureWarning: A value is trying to be set on a copy of a DataFrame or Series through chained assignment using an inplace method.\nThe behavior will change in pandas 3.0. This inplace method will never work because the intermediate object on which we are setting values always behaves as a copy.\n\nFor example, when doing 'df[col].method(value, inplace=True)', try using 'df.method({col: value}, inplace=True)' or df[col] = df[col].method(value) instead, to perform the operation inplace on the original object.\n\n\n  all_df[\"BsmtFinSF2\"].fillna(0, inplace=True)\n/tmp/ipykernel_33/881269123.py:36: FutureWarning: A value is trying to be set on a copy of a DataFrame or Series through chained assignment using an inplace method.\nThe behavior will change in pandas 3.0. This inplace method will never work because the intermediate object on which we are setting values always behaves as a copy.\n\nFor example, when doing 'df[col].method(value, inplace=True)', try using 'df.method({col: value}, inplace=True)' or df[col] = df[col].method(value) instead, to perform the operation inplace on the original object.\n\n\n  all_df[\"BsmtUnfSF\"].fillna(0, inplace=True)\n/tmp/ipykernel_33/881269123.py:39: FutureWarning: A value is trying to be set on a copy of a DataFrame or Series through chained assignment using an inplace method.\nThe behavior will change in pandas 3.0. This inplace method will never work because the intermediate object on which we are setting values always behaves as a copy.\n\nFor example, when doing 'df[col].method(value, inplace=True)', try using 'df.method({col: value}, inplace=True)' or df[col] = df[col].method(value) instead, to perform the operation inplace on the original object.\n\n\n  all_df[\"TotalBsmtSF\"].fillna(0, inplace=True)\n/tmp/ipykernel_33/881269123.py:46: FutureWarning: A value is trying to be set on a copy of a DataFrame or Series through chained assignment using an inplace method.\nThe behavior will change in pandas 3.0. This inplace method will never work because the intermediate object on which we are setting values always behaves as a copy.\n\nFor example, when doing 'df[col].method(value, inplace=True)', try using 'df.method({col: value}, inplace=True)' or df[col] = df[col].method(value) instead, to perform the operation inplace on the original object.\n\n\n  all_df[\"GarageArea\"].fillna(0, inplace=True)\n/tmp/ipykernel_33/881269123.py:55: FutureWarning: A value is trying to be set on a copy of a DataFrame or Series through chained assignment using an inplace method.\nThe behavior will change in pandas 3.0. This inplace method will never work because the intermediate object on which we are setting values always behaves as a copy.\n\nFor example, when doing 'df[col].method(value, inplace=True)', try using 'df.method({col: value}, inplace=True)' or df[col] = df[col].method(value) instead, to perform the operation inplace on the original object.\n\n\n  all_df[\"BsmtFullBath\"].fillna(0, inplace=True)\n/tmp/ipykernel_33/881269123.py:58: FutureWarning: A value is trying to be set on a copy of a DataFrame or Series through chained assignment using an inplace method.\nThe behavior will change in pandas 3.0. This inplace method will never work because the intermediate object on which we are setting values always behaves as a copy.\n\nFor example, when doing 'df[col].method(value, inplace=True)', try using 'df.method({col: value}, inplace=True)' or df[col] = df[col].method(value) instead, to perform the operation inplace on the original object.\n\n\n  all_df[\"BsmtHalfBath\"].fillna(0, inplace=True)\n/tmp/ipykernel_33/881269123.py:68: FutureWarning: A value is trying to be set on a copy of a DataFrame or Series through chained assignment using an inplace method.\nThe behavior will change in pandas 3.0. This inplace method will never work because the intermediate object on which we are setting values always behaves as a copy.\n\nFor example, when doing 'df[col].method(value, inplace=True)', try using 'df.method({col: value}, inplace=True)' or df[col] = df[col].method(value) instead, to perform the operation inplace on the original object.\n\n\n  all_df[\"GarageCars\"].fillna(0, inplace=True)\n/tmp/ipykernel_33/881269123.py:118: FutureWarning: A value is trying to be set on a copy of a DataFrame or Series through chained assignment using an inplace method.\nThe behavior will change in pandas 3.0. This inplace method will never work because the intermediate object on which we are setting values always behaves as a copy.\n\nFor example, when doing 'df[col].method(value, inplace=True)', try using 'df.method({col: value}, inplace=True)' or df[col] = df[col].method(value) instead, to perform the operation inplace on the original object.\n\n\n  all_df[\"GarageYrBlt\"].fillna(0.0, inplace=True)\n/tmp/ipykernel_33/881269123.py:130: FutureWarning: A value is trying to be set on a copy of a DataFrame or Series through chained assignment using an inplace method.\nThe behavior will change in pandas 3.0. This inplace method will never work because the intermediate object on which we are setting values always behaves as a copy.\n\nFor example, when doing 'df[col].method(value, inplace=True)', try using 'df.method({col: value}, inplace=True)' or df[col] = df[col].method(value) instead, to perform the operation inplace on the original object.\n\n\n  all_df[\"PoolArea\"].fillna(0, inplace=True)\n/tmp/ipykernel_33/881269123.py:9: FutureWarning: A value is trying to be set on a copy of a DataFrame or Series through chained assignment using an inplace method.\nThe behavior will change in pandas 3.0. This inplace method will never work because the intermediate object on which we are setting values always behaves as a copy.\n\nFor example, when doing 'df[col].method(value, inplace=True)', try using 'df.method({col: value}, inplace=True)' or df[col] = df[col].method(value) instead, to perform the operation inplace on the original object.\n\n\n  factor_df[column].fillna(fill_na, inplace=True)\n/tmp/ipykernel_33/881269123.py:9: FutureWarning: A value is trying to be set on a copy of a DataFrame or Series through chained assignment using an inplace method.\nThe behavior will change in pandas 3.0. This inplace method will never work because the intermediate object on which we are setting values always behaves as a copy.\n\nFor example, when doing 'df[col].method(value, inplace=True)', try using 'df.method({col: value}, inplace=True)' or df[col] = df[col].method(value) instead, to perform the operation inplace on the original object.\n\n\n  factor_df[column].fillna(fill_na, inplace=True)\n/tmp/ipykernel_33/881269123.py:9: FutureWarning: A value is trying to be set on a copy of a DataFrame or Series through chained assignment using an inplace method.\nThe behavior will change in pandas 3.0. This inplace method will never work because the intermediate object on which we are setting values always behaves as a copy.\n\nFor example, when doing 'df[col].method(value, inplace=True)', try using 'df.method({col: value}, inplace=True)' or df[col] = df[col].method(value) instead, to perform the operation inplace on the original object.\n\n\n  factor_df[column].fillna(fill_na, inplace=True)\n/tmp/ipykernel_33/881269123.py:9: FutureWarning: A value is trying to be set on a copy of a DataFrame or Series through chained assignment using an inplace method.\nThe behavior will change in pandas 3.0. This inplace method will never work because the intermediate object on which we are setting values always behaves as a copy.\n\nFor example, when doing 'df[col].method(value, inplace=True)', try using 'df.method({col: value}, inplace=True)' or df[col] = df[col].method(value) instead, to perform the operation inplace on the original object.\n\n\n  factor_df[column].fillna(fill_na, inplace=True)\n/tmp/ipykernel_33/881269123.py:9: FutureWarning: A value is trying to be set on a copy of a DataFrame or Series through chained assignment using an inplace method.\nThe behavior will change in pandas 3.0. This inplace method will never work because the intermediate object on which we are setting values always behaves as a copy.\n\nFor example, when doing 'df[col].method(value, inplace=True)', try using 'df.method({col: value}, inplace=True)' or df[col] = df[col].method(value) instead, to perform the operation inplace on the original object.\n\n\n  factor_df[column].fillna(fill_na, inplace=True)\n/tmp/ipykernel_33/881269123.py:208: FutureWarning: A value is trying to be set on a copy of a DataFrame or Series through chained assignment using an inplace method.\nThe behavior will change in pandas 3.0. This inplace method will never work because the intermediate object on which we are setting values always behaves as a copy.\n\nFor example, when doing 'df[col].method(value, inplace=True)', try using 'df.method({col: value}, inplace=True)' or df[col] = df[col].method(value) instead, to perform the operation inplace on the original object.\n\n\n  all_df[\"Neighborhood_Good\"].fillna(0, inplace=True)\n/tmp/ipykernel_33/881269123.py:210: FutureWarning: Downcasting behavior in `replace` is deprecated and will be removed in a future version. To retain the old behavior, explicitly call `result.infer_objects(copy=False)`. To opt-in to the future behavior, set `pd.set_option('future.no_silent_downcasting', True)`\n  all_df[\"SaleCondition_PriceDown\"] = df.SaleCondition.replace(\n/tmp/ipykernel_33/881269123.py:214: FutureWarning: Downcasting behavior in `replace` is deprecated and will be removed in a future version. To retain the old behavior, explicitly call `result.infer_objects(copy=False)`. To opt-in to the future behavior, set `pd.set_option('future.no_silent_downcasting', True)`\n  all_df[\"BoughtOffPlan\"] = df.SaleCondition.replace(\n/tmp/ipykernel_33/881269123.py:217: FutureWarning: Downcasting behavior in `replace` is deprecated and will be removed in a future version. To retain the old behavior, explicitly call `result.infer_objects(copy=False)`. To opt-in to the future behavior, set `pd.set_option('future.no_silent_downcasting', True)`\n  all_df[\"BadHeating\"] = df.HeatingQC.replace(\n/tmp/ipykernel_33/881269123.py:246: PerformanceWarning: DataFrame is highly fragmented.  This is usually the result of calling `frame.insert` many times, which has poor performance.  Consider joining all columns at once using pd.concat(axis=1) instead. To get a de-fragmented frame, use `newframe = frame.copy()`\n  all_df[\"SimplFireplaceQu\"] = all_df.FireplaceQu.replace(\n/tmp/ipykernel_33/881269123.py:250: PerformanceWarning: DataFrame is highly fragmented.  This is usually the result of calling `frame.insert` many times, which has poor performance.  Consider joining all columns at once using pd.concat(axis=1) instead. To get a de-fragmented frame, use `newframe = frame.copy()`\n  all_df[\"SimplFunctional\"] = all_df.Functional.replace(\n/tmp/ipykernel_33/881269123.py:252: PerformanceWarning: DataFrame is highly fragmented.  This is usually the result of calling `frame.insert` many times, which has poor performance.  Consider joining all columns at once using pd.concat(axis=1) instead. To get a de-fragmented frame, use `newframe = frame.copy()`\n  all_df[\"SimplKitchenQual\"] = all_df.KitchenQual.replace(\n/tmp/ipykernel_33/881269123.py:254: PerformanceWarning: DataFrame is highly fragmented.  This is usually the result of calling `frame.insert` many times, which has poor performance.  Consider joining all columns at once using pd.concat(axis=1) instead. To get a de-fragmented frame, use `newframe = frame.copy()`\n  all_df[\"SimplHeatingQC\"] = all_df.HeatingQC.replace(\n/tmp/ipykernel_33/881269123.py:256: PerformanceWarning: DataFrame is highly fragmented.  This is usually the result of calling `frame.insert` many times, which has poor performance.  Consider joining all columns at once using pd.concat(axis=1) instead. To get a de-fragmented frame, use `newframe = frame.copy()`\n  all_df[\"SimplBsmtFinType1\"] = all_df.BsmtFinType1.replace(\n/tmp/ipykernel_33/881269123.py:258: PerformanceWarning: DataFrame is highly fragmented.  This is usually the result of calling `frame.insert` many times, which has poor performance.  Consider joining all columns at once using pd.concat(axis=1) instead. To get a de-fragmented frame, use `newframe = frame.copy()`\n  all_df[\"SimplBsmtFinType2\"] = all_df.BsmtFinType2.replace(\n/tmp/ipykernel_33/881269123.py:260: PerformanceWarning: DataFrame is highly fragmented.  This is usually the result of calling `frame.insert` many times, which has poor performance.  Consider joining all columns at once using pd.concat(axis=1) instead. To get a de-fragmented frame, use `newframe = frame.copy()`\n  all_df[\"SimplBsmtCond\"] = all_df.BsmtCond.replace(\n/tmp/ipykernel_33/881269123.py:262: PerformanceWarning: DataFrame is highly fragmented.  This is usually the result of calling `frame.insert` many times, which has poor performance.  Consider joining all columns at once using pd.concat(axis=1) instead. To get a de-fragmented frame, use `newframe = frame.copy()`\n  all_df[\"SimplBsmtQual\"] = all_df.BsmtQual.replace(\n/tmp/ipykernel_33/881269123.py:264: PerformanceWarning: DataFrame is highly fragmented.  This is usually the result of calling `frame.insert` many times, which has poor performance.  Consider joining all columns at once using pd.concat(axis=1) instead. To get a de-fragmented frame, use `newframe = frame.copy()`\n  all_df[\"SimplExterCond\"] = all_df.ExterCond.replace(\n/tmp/ipykernel_33/881269123.py:266: PerformanceWarning: DataFrame is highly fragmented.  This is usually the result of calling `frame.insert` many times, which has poor performance.  Consider joining all columns at once using pd.concat(axis=1) instead. To get a de-fragmented frame, use `newframe = frame.copy()`\n  all_df[\"SimplExterQual\"] = all_df.ExterQual.replace(\n/tmp/ipykernel_33/881269123.py:299: PerformanceWarning: DataFrame is highly fragmented.  This is usually the result of calling `frame.insert` many times, which has poor performance.  Consider joining all columns at once using pd.concat(axis=1) instead. To get a de-fragmented frame, use `newframe = frame.copy()`\n  all_df[\"NeighborhoodBin\"] = df[\"Neighborhood\"].map(neighborhood_map)\n",
          "output_type": "stream"
        },
        {
          "name": "stdout",
          "text": "(1456, 111)\n(1459, 111)\n",
          "output_type": "stream"
        },
        {
          "name": "stderr",
          "text": "/tmp/ipykernel_33/881269123.py:349: FutureWarning: A value is trying to be set on a copy of a DataFrame or Series through chained assignment using an inplace method.\nThe behavior will change in pandas 3.0. This inplace method will never work because the intermediate object on which we are setting values always behaves as a copy.\n\nFor example, when doing 'df[col].method(value, inplace=True)', try using 'df.method({col: value}, inplace=True)' or df[col] = df[col].method(value) instead, to perform the operation inplace on the original object.\n\n\n  onehot_df[column_name].fillna(fill_na, inplace=True)\n/tmp/ipykernel_33/881269123.py:349: FutureWarning: A value is trying to be set on a copy of a DataFrame or Series through chained assignment using an inplace method.\nThe behavior will change in pandas 3.0. This inplace method will never work because the intermediate object on which we are setting values always behaves as a copy.\n\nFor example, when doing 'df[col].method(value, inplace=True)', try using 'df.method({col: value}, inplace=True)' or df[col] = df[col].method(value) instead, to perform the operation inplace on the original object.\n\n\n  onehot_df[column_name].fillna(fill_na, inplace=True)\n/tmp/ipykernel_33/881269123.py:349: FutureWarning: A value is trying to be set on a copy of a DataFrame or Series through chained assignment using an inplace method.\nThe behavior will change in pandas 3.0. This inplace method will never work because the intermediate object on which we are setting values always behaves as a copy.\n\nFor example, when doing 'df[col].method(value, inplace=True)', try using 'df.method({col: value}, inplace=True)' or df[col] = df[col].method(value) instead, to perform the operation inplace on the original object.\n\n\n  onehot_df[column_name].fillna(fill_na, inplace=True)\n/tmp/ipykernel_33/881269123.py:349: FutureWarning: A value is trying to be set on a copy of a DataFrame or Series through chained assignment using an inplace method.\nThe behavior will change in pandas 3.0. This inplace method will never work because the intermediate object on which we are setting values always behaves as a copy.\n\nFor example, when doing 'df[col].method(value, inplace=True)', try using 'df.method({col: value}, inplace=True)' or df[col] = df[col].method(value) instead, to perform the operation inplace on the original object.\n\n\n  onehot_df[column_name].fillna(fill_na, inplace=True)\n/tmp/ipykernel_33/881269123.py:349: FutureWarning: A value is trying to be set on a copy of a DataFrame or Series through chained assignment using an inplace method.\nThe behavior will change in pandas 3.0. This inplace method will never work because the intermediate object on which we are setting values always behaves as a copy.\n\nFor example, when doing 'df[col].method(value, inplace=True)', try using 'df.method({col: value}, inplace=True)' or df[col] = df[col].method(value) instead, to perform the operation inplace on the original object.\n\n\n  onehot_df[column_name].fillna(fill_na, inplace=True)\n/tmp/ipykernel_33/881269123.py:349: FutureWarning: A value is trying to be set on a copy of a DataFrame or Series through chained assignment using an inplace method.\nThe behavior will change in pandas 3.0. This inplace method will never work because the intermediate object on which we are setting values always behaves as a copy.\n\nFor example, when doing 'df[col].method(value, inplace=True)', try using 'df.method({col: value}, inplace=True)' or df[col] = df[col].method(value) instead, to perform the operation inplace on the original object.\n\n\n  onehot_df[column_name].fillna(fill_na, inplace=True)\n/tmp/ipykernel_33/881269123.py:349: FutureWarning: A value is trying to be set on a copy of a DataFrame or Series through chained assignment using an inplace method.\nThe behavior will change in pandas 3.0. This inplace method will never work because the intermediate object on which we are setting values always behaves as a copy.\n\nFor example, when doing 'df[col].method(value, inplace=True)', try using 'df.method({col: value}, inplace=True)' or df[col] = df[col].method(value) instead, to perform the operation inplace on the original object.\n\n\n  onehot_df[column_name].fillna(fill_na, inplace=True)\n/tmp/ipykernel_33/881269123.py:349: FutureWarning: A value is trying to be set on a copy of a DataFrame or Series through chained assignment using an inplace method.\nThe behavior will change in pandas 3.0. This inplace method will never work because the intermediate object on which we are setting values always behaves as a copy.\n\nFor example, when doing 'df[col].method(value, inplace=True)', try using 'df.method({col: value}, inplace=True)' or df[col] = df[col].method(value) instead, to perform the operation inplace on the original object.\n\n\n  onehot_df[column_name].fillna(fill_na, inplace=True)\n/tmp/ipykernel_33/881269123.py:349: FutureWarning: A value is trying to be set on a copy of a DataFrame or Series through chained assignment using an inplace method.\nThe behavior will change in pandas 3.0. This inplace method will never work because the intermediate object on which we are setting values always behaves as a copy.\n\nFor example, when doing 'df[col].method(value, inplace=True)', try using 'df.method({col: value}, inplace=True)' or df[col] = df[col].method(value) instead, to perform the operation inplace on the original object.\n\n\n  onehot_df[column_name].fillna(fill_na, inplace=True)\n/tmp/ipykernel_33/881269123.py:349: FutureWarning: A value is trying to be set on a copy of a DataFrame or Series through chained assignment using an inplace method.\nThe behavior will change in pandas 3.0. This inplace method will never work because the intermediate object on which we are setting values always behaves as a copy.\n\nFor example, when doing 'df[col].method(value, inplace=True)', try using 'df.method({col: value}, inplace=True)' or df[col] = df[col].method(value) instead, to perform the operation inplace on the original object.\n\n\n  onehot_df[column_name].fillna(fill_na, inplace=True)\n/tmp/ipykernel_33/881269123.py:349: FutureWarning: A value is trying to be set on a copy of a DataFrame or Series through chained assignment using an inplace method.\nThe behavior will change in pandas 3.0. This inplace method will never work because the intermediate object on which we are setting values always behaves as a copy.\n\nFor example, when doing 'df[col].method(value, inplace=True)', try using 'df.method({col: value}, inplace=True)' or df[col] = df[col].method(value) instead, to perform the operation inplace on the original object.\n\n\n  onehot_df[column_name].fillna(fill_na, inplace=True)\n/tmp/ipykernel_33/881269123.py:349: FutureWarning: A value is trying to be set on a copy of a DataFrame or Series through chained assignment using an inplace method.\nThe behavior will change in pandas 3.0. This inplace method will never work because the intermediate object on which we are setting values always behaves as a copy.\n\nFor example, when doing 'df[col].method(value, inplace=True)', try using 'df.method({col: value}, inplace=True)' or df[col] = df[col].method(value) instead, to perform the operation inplace on the original object.\n\n\n  onehot_df[column_name].fillna(fill_na, inplace=True)\n/tmp/ipykernel_33/881269123.py:349: FutureWarning: A value is trying to be set on a copy of a DataFrame or Series through chained assignment using an inplace method.\nThe behavior will change in pandas 3.0. This inplace method will never work because the intermediate object on which we are setting values always behaves as a copy.\n\nFor example, when doing 'df[col].method(value, inplace=True)', try using 'df.method({col: value}, inplace=True)' or df[col] = df[col].method(value) instead, to perform the operation inplace on the original object.\n\n\n  onehot_df[column_name].fillna(fill_na, inplace=True)\n/tmp/ipykernel_33/881269123.py:349: FutureWarning: A value is trying to be set on a copy of a DataFrame or Series through chained assignment using an inplace method.\nThe behavior will change in pandas 3.0. This inplace method will never work because the intermediate object on which we are setting values always behaves as a copy.\n\nFor example, when doing 'df[col].method(value, inplace=True)', try using 'df.method({col: value}, inplace=True)' or df[col] = df[col].method(value) instead, to perform the operation inplace on the original object.\n\n\n  onehot_df[column_name].fillna(fill_na, inplace=True)\n/tmp/ipykernel_33/881269123.py:349: FutureWarning: A value is trying to be set on a copy of a DataFrame or Series through chained assignment using an inplace method.\nThe behavior will change in pandas 3.0. This inplace method will never work because the intermediate object on which we are setting values always behaves as a copy.\n\nFor example, when doing 'df[col].method(value, inplace=True)', try using 'df.method({col: value}, inplace=True)' or df[col] = df[col].method(value) instead, to perform the operation inplace on the original object.\n\n\n  onehot_df[column_name].fillna(fill_na, inplace=True)\n/tmp/ipykernel_33/881269123.py:349: FutureWarning: A value is trying to be set on a copy of a DataFrame or Series through chained assignment using an inplace method.\nThe behavior will change in pandas 3.0. This inplace method will never work because the intermediate object on which we are setting values always behaves as a copy.\n\nFor example, when doing 'df[col].method(value, inplace=True)', try using 'df.method({col: value}, inplace=True)' or df[col] = df[col].method(value) instead, to perform the operation inplace on the original object.\n\n\n  onehot_df[column_name].fillna(fill_na, inplace=True)\n/tmp/ipykernel_33/881269123.py:349: FutureWarning: A value is trying to be set on a copy of a DataFrame or Series through chained assignment using an inplace method.\nThe behavior will change in pandas 3.0. This inplace method will never work because the intermediate object on which we are setting values always behaves as a copy.\n\nFor example, when doing 'df[col].method(value, inplace=True)', try using 'df.method({col: value}, inplace=True)' or df[col] = df[col].method(value) instead, to perform the operation inplace on the original object.\n\n\n  onehot_df[column_name].fillna(fill_na, inplace=True)\n/tmp/ipykernel_33/881269123.py:349: FutureWarning: A value is trying to be set on a copy of a DataFrame or Series through chained assignment using an inplace method.\nThe behavior will change in pandas 3.0. This inplace method will never work because the intermediate object on which we are setting values always behaves as a copy.\n\nFor example, when doing 'df[col].method(value, inplace=True)', try using 'df.method({col: value}, inplace=True)' or df[col] = df[col].method(value) instead, to perform the operation inplace on the original object.\n\n\n  onehot_df[column_name].fillna(fill_na, inplace=True)\n/tmp/ipykernel_33/881269123.py:349: FutureWarning: A value is trying to be set on a copy of a DataFrame or Series through chained assignment using an inplace method.\nThe behavior will change in pandas 3.0. This inplace method will never work because the intermediate object on which we are setting values always behaves as a copy.\n\nFor example, when doing 'df[col].method(value, inplace=True)', try using 'df.method({col: value}, inplace=True)' or df[col] = df[col].method(value) instead, to perform the operation inplace on the original object.\n\n\n  onehot_df[column_name].fillna(fill_na, inplace=True)\n/tmp/ipykernel_33/881269123.py:349: FutureWarning: A value is trying to be set on a copy of a DataFrame or Series through chained assignment using an inplace method.\nThe behavior will change in pandas 3.0. This inplace method will never work because the intermediate object on which we are setting values always behaves as a copy.\n\nFor example, when doing 'df[col].method(value, inplace=True)', try using 'df.method({col: value}, inplace=True)' or df[col] = df[col].method(value) instead, to perform the operation inplace on the original object.\n\n\n  onehot_df[column_name].fillna(fill_na, inplace=True)\n/tmp/ipykernel_33/881269123.py:349: FutureWarning: A value is trying to be set on a copy of a DataFrame or Series through chained assignment using an inplace method.\nThe behavior will change in pandas 3.0. This inplace method will never work because the intermediate object on which we are setting values always behaves as a copy.\n\nFor example, when doing 'df[col].method(value, inplace=True)', try using 'df.method({col: value}, inplace=True)' or df[col] = df[col].method(value) instead, to perform the operation inplace on the original object.\n\n\n  onehot_df[column_name].fillna(fill_na, inplace=True)\n/tmp/ipykernel_33/881269123.py:349: FutureWarning: A value is trying to be set on a copy of a DataFrame or Series through chained assignment using an inplace method.\nThe behavior will change in pandas 3.0. This inplace method will never work because the intermediate object on which we are setting values always behaves as a copy.\n\nFor example, when doing 'df[col].method(value, inplace=True)', try using 'df.method({col: value}, inplace=True)' or df[col] = df[col].method(value) instead, to perform the operation inplace on the original object.\n\n\n  onehot_df[column_name].fillna(fill_na, inplace=True)\n/tmp/ipykernel_33/881269123.py:349: FutureWarning: A value is trying to be set on a copy of a DataFrame or Series through chained assignment using an inplace method.\nThe behavior will change in pandas 3.0. This inplace method will never work because the intermediate object on which we are setting values always behaves as a copy.\n\nFor example, when doing 'df[col].method(value, inplace=True)', try using 'df.method({col: value}, inplace=True)' or df[col] = df[col].method(value) instead, to perform the operation inplace on the original object.\n\n\n  onehot_df[column_name].fillna(fill_na, inplace=True)\n/tmp/ipykernel_33/881269123.py:349: FutureWarning: A value is trying to be set on a copy of a DataFrame or Series through chained assignment using an inplace method.\nThe behavior will change in pandas 3.0. This inplace method will never work because the intermediate object on which we are setting values always behaves as a copy.\n\nFor example, when doing 'df[col].method(value, inplace=True)', try using 'df.method({col: value}, inplace=True)' or df[col] = df[col].method(value) instead, to perform the operation inplace on the original object.\n\n\n  onehot_df[column_name].fillna(fill_na, inplace=True)\n/tmp/ipykernel_33/881269123.py:349: FutureWarning: A value is trying to be set on a copy of a DataFrame or Series through chained assignment using an inplace method.\nThe behavior will change in pandas 3.0. This inplace method will never work because the intermediate object on which we are setting values always behaves as a copy.\n\nFor example, when doing 'df[col].method(value, inplace=True)', try using 'df.method({col: value}, inplace=True)' or df[col] = df[col].method(value) instead, to perform the operation inplace on the original object.\n\n\n  onehot_df[column_name].fillna(fill_na, inplace=True)\n/tmp/ipykernel_33/881269123.py:349: FutureWarning: A value is trying to be set on a copy of a DataFrame or Series through chained assignment using an inplace method.\nThe behavior will change in pandas 3.0. This inplace method will never work because the intermediate object on which we are setting values always behaves as a copy.\n\nFor example, when doing 'df[col].method(value, inplace=True)', try using 'df.method({col: value}, inplace=True)' or df[col] = df[col].method(value) instead, to perform the operation inplace on the original object.\n\n\n  onehot_df[column_name].fillna(fill_na, inplace=True)\n/tmp/ipykernel_33/881269123.py:427: FutureWarning: A value is trying to be set on a copy of a DataFrame or Series through chained assignment using an inplace method.\nThe behavior will change in pandas 3.0. This inplace method will never work because the intermediate object on which we are setting values always behaves as a copy.\n\nFor example, when doing 'df[col].method(value, inplace=True)', try using 'df.method({col: value}, inplace=True)' or df[col] = df[col].method(value) instead, to perform the operation inplace on the original object.\n\n\n  yearbin_df[\"GarageYrBltBin\"].fillna(\"NoGarage\", inplace=True)\n/tmp/ipykernel_33/881269123.py:349: FutureWarning: A value is trying to be set on a copy of a DataFrame or Series through chained assignment using an inplace method.\nThe behavior will change in pandas 3.0. This inplace method will never work because the intermediate object on which we are setting values always behaves as a copy.\n\nFor example, when doing 'df[col].method(value, inplace=True)', try using 'df.method({col: value}, inplace=True)' or df[col] = df[col].method(value) instead, to perform the operation inplace on the original object.\n\n\n  onehot_df[column_name].fillna(fill_na, inplace=True)\n/tmp/ipykernel_33/881269123.py:349: FutureWarning: A value is trying to be set on a copy of a DataFrame or Series through chained assignment using an inplace method.\nThe behavior will change in pandas 3.0. This inplace method will never work because the intermediate object on which we are setting values always behaves as a copy.\n\nFor example, when doing 'df[col].method(value, inplace=True)', try using 'df.method({col: value}, inplace=True)' or df[col] = df[col].method(value) instead, to perform the operation inplace on the original object.\n\n\n  onehot_df[column_name].fillna(fill_na, inplace=True)\n/tmp/ipykernel_33/881269123.py:349: FutureWarning: A value is trying to be set on a copy of a DataFrame or Series through chained assignment using an inplace method.\nThe behavior will change in pandas 3.0. This inplace method will never work because the intermediate object on which we are setting values always behaves as a copy.\n\nFor example, when doing 'df[col].method(value, inplace=True)', try using 'df.method({col: value}, inplace=True)' or df[col] = df[col].method(value) instead, to perform the operation inplace on the original object.\n\n\n  onehot_df[column_name].fillna(fill_na, inplace=True)\n/tmp/ipykernel_33/881269123.py:349: FutureWarning: A value is trying to be set on a copy of a DataFrame or Series through chained assignment using an inplace method.\nThe behavior will change in pandas 3.0. This inplace method will never work because the intermediate object on which we are setting values always behaves as a copy.\n\nFor example, when doing 'df[col].method(value, inplace=True)', try using 'df.method({col: value}, inplace=True)' or df[col] = df[col].method(value) instead, to perform the operation inplace on the original object.\n\n\n  onehot_df[column_name].fillna(fill_na, inplace=True)\n/tmp/ipykernel_33/881269123.py:349: FutureWarning: A value is trying to be set on a copy of a DataFrame or Series through chained assignment using an inplace method.\nThe behavior will change in pandas 3.0. This inplace method will never work because the intermediate object on which we are setting values always behaves as a copy.\n\nFor example, when doing 'df[col].method(value, inplace=True)', try using 'df.method({col: value}, inplace=True)' or df[col] = df[col].method(value) instead, to perform the operation inplace on the original object.\n\n\n  onehot_df[column_name].fillna(fill_na, inplace=True)\n/tmp/ipykernel_33/881269123.py:349: FutureWarning: A value is trying to be set on a copy of a DataFrame or Series through chained assignment using an inplace method.\nThe behavior will change in pandas 3.0. This inplace method will never work because the intermediate object on which we are setting values always behaves as a copy.\n\nFor example, when doing 'df[col].method(value, inplace=True)', try using 'df.method({col: value}, inplace=True)' or df[col] = df[col].method(value) instead, to perform the operation inplace on the original object.\n\n\n  onehot_df[column_name].fillna(fill_na, inplace=True)\n/tmp/ipykernel_33/881269123.py:349: FutureWarning: A value is trying to be set on a copy of a DataFrame or Series through chained assignment using an inplace method.\nThe behavior will change in pandas 3.0. This inplace method will never work because the intermediate object on which we are setting values always behaves as a copy.\n\nFor example, when doing 'df[col].method(value, inplace=True)', try using 'df.method({col: value}, inplace=True)' or df[col] = df[col].method(value) instead, to perform the operation inplace on the original object.\n\n\n  onehot_df[column_name].fillna(fill_na, inplace=True)\n/tmp/ipykernel_33/881269123.py:349: FutureWarning: A value is trying to be set on a copy of a DataFrame or Series through chained assignment using an inplace method.\nThe behavior will change in pandas 3.0. This inplace method will never work because the intermediate object on which we are setting values always behaves as a copy.\n\nFor example, when doing 'df[col].method(value, inplace=True)', try using 'df.method({col: value}, inplace=True)' or df[col] = df[col].method(value) instead, to perform the operation inplace on the original object.\n\n\n  onehot_df[column_name].fillna(fill_na, inplace=True)\n/tmp/ipykernel_33/881269123.py:349: FutureWarning: A value is trying to be set on a copy of a DataFrame or Series through chained assignment using an inplace method.\nThe behavior will change in pandas 3.0. This inplace method will never work because the intermediate object on which we are setting values always behaves as a copy.\n\nFor example, when doing 'df[col].method(value, inplace=True)', try using 'df.method({col: value}, inplace=True)' or df[col] = df[col].method(value) instead, to perform the operation inplace on the original object.\n\n\n  onehot_df[column_name].fillna(fill_na, inplace=True)\n/tmp/ipykernel_33/881269123.py:349: FutureWarning: A value is trying to be set on a copy of a DataFrame or Series through chained assignment using an inplace method.\nThe behavior will change in pandas 3.0. This inplace method will never work because the intermediate object on which we are setting values always behaves as a copy.\n\nFor example, when doing 'df[col].method(value, inplace=True)', try using 'df.method({col: value}, inplace=True)' or df[col] = df[col].method(value) instead, to perform the operation inplace on the original object.\n\n\n  onehot_df[column_name].fillna(fill_na, inplace=True)\n/tmp/ipykernel_33/881269123.py:349: FutureWarning: A value is trying to be set on a copy of a DataFrame or Series through chained assignment using an inplace method.\nThe behavior will change in pandas 3.0. This inplace method will never work because the intermediate object on which we are setting values always behaves as a copy.\n\nFor example, when doing 'df[col].method(value, inplace=True)', try using 'df.method({col: value}, inplace=True)' or df[col] = df[col].method(value) instead, to perform the operation inplace on the original object.\n\n\n  onehot_df[column_name].fillna(fill_na, inplace=True)\n/tmp/ipykernel_33/881269123.py:349: FutureWarning: A value is trying to be set on a copy of a DataFrame or Series through chained assignment using an inplace method.\nThe behavior will change in pandas 3.0. This inplace method will never work because the intermediate object on which we are setting values always behaves as a copy.\n\nFor example, when doing 'df[col].method(value, inplace=True)', try using 'df.method({col: value}, inplace=True)' or df[col] = df[col].method(value) instead, to perform the operation inplace on the original object.\n\n\n  onehot_df[column_name].fillna(fill_na, inplace=True)\n/tmp/ipykernel_33/881269123.py:349: FutureWarning: A value is trying to be set on a copy of a DataFrame or Series through chained assignment using an inplace method.\nThe behavior will change in pandas 3.0. This inplace method will never work because the intermediate object on which we are setting values always behaves as a copy.\n\nFor example, when doing 'df[col].method(value, inplace=True)', try using 'df.method({col: value}, inplace=True)' or df[col] = df[col].method(value) instead, to perform the operation inplace on the original object.\n\n\n  onehot_df[column_name].fillna(fill_na, inplace=True)\n/tmp/ipykernel_33/881269123.py:349: FutureWarning: A value is trying to be set on a copy of a DataFrame or Series through chained assignment using an inplace method.\nThe behavior will change in pandas 3.0. This inplace method will never work because the intermediate object on which we are setting values always behaves as a copy.\n\nFor example, when doing 'df[col].method(value, inplace=True)', try using 'df.method({col: value}, inplace=True)' or df[col] = df[col].method(value) instead, to perform the operation inplace on the original object.\n\n\n  onehot_df[column_name].fillna(fill_na, inplace=True)\n/tmp/ipykernel_33/881269123.py:349: FutureWarning: A value is trying to be set on a copy of a DataFrame or Series through chained assignment using an inplace method.\nThe behavior will change in pandas 3.0. This inplace method will never work because the intermediate object on which we are setting values always behaves as a copy.\n\nFor example, when doing 'df[col].method(value, inplace=True)', try using 'df.method({col: value}, inplace=True)' or df[col] = df[col].method(value) instead, to perform the operation inplace on the original object.\n\n\n  onehot_df[column_name].fillna(fill_na, inplace=True)\n/tmp/ipykernel_33/881269123.py:349: FutureWarning: A value is trying to be set on a copy of a DataFrame or Series through chained assignment using an inplace method.\nThe behavior will change in pandas 3.0. This inplace method will never work because the intermediate object on which we are setting values always behaves as a copy.\n\nFor example, when doing 'df[col].method(value, inplace=True)', try using 'df.method({col: value}, inplace=True)' or df[col] = df[col].method(value) instead, to perform the operation inplace on the original object.\n\n\n  onehot_df[column_name].fillna(fill_na, inplace=True)\n/tmp/ipykernel_33/881269123.py:349: FutureWarning: A value is trying to be set on a copy of a DataFrame or Series through chained assignment using an inplace method.\nThe behavior will change in pandas 3.0. This inplace method will never work because the intermediate object on which we are setting values always behaves as a copy.\n\nFor example, when doing 'df[col].method(value, inplace=True)', try using 'df.method({col: value}, inplace=True)' or df[col] = df[col].method(value) instead, to perform the operation inplace on the original object.\n\n\n  onehot_df[column_name].fillna(fill_na, inplace=True)\n/tmp/ipykernel_33/881269123.py:349: FutureWarning: A value is trying to be set on a copy of a DataFrame or Series through chained assignment using an inplace method.\nThe behavior will change in pandas 3.0. This inplace method will never work because the intermediate object on which we are setting values always behaves as a copy.\n\nFor example, when doing 'df[col].method(value, inplace=True)', try using 'df.method({col: value}, inplace=True)' or df[col] = df[col].method(value) instead, to perform the operation inplace on the original object.\n\n\n  onehot_df[column_name].fillna(fill_na, inplace=True)\n/tmp/ipykernel_33/881269123.py:349: FutureWarning: A value is trying to be set on a copy of a DataFrame or Series through chained assignment using an inplace method.\nThe behavior will change in pandas 3.0. This inplace method will never work because the intermediate object on which we are setting values always behaves as a copy.\n\nFor example, when doing 'df[col].method(value, inplace=True)', try using 'df.method({col: value}, inplace=True)' or df[col] = df[col].method(value) instead, to perform the operation inplace on the original object.\n\n\n  onehot_df[column_name].fillna(fill_na, inplace=True)\n/tmp/ipykernel_33/881269123.py:349: FutureWarning: A value is trying to be set on a copy of a DataFrame or Series through chained assignment using an inplace method.\nThe behavior will change in pandas 3.0. This inplace method will never work because the intermediate object on which we are setting values always behaves as a copy.\n\nFor example, when doing 'df[col].method(value, inplace=True)', try using 'df.method({col: value}, inplace=True)' or df[col] = df[col].method(value) instead, to perform the operation inplace on the original object.\n\n\n  onehot_df[column_name].fillna(fill_na, inplace=True)\n/tmp/ipykernel_33/881269123.py:349: FutureWarning: A value is trying to be set on a copy of a DataFrame or Series through chained assignment using an inplace method.\nThe behavior will change in pandas 3.0. This inplace method will never work because the intermediate object on which we are setting values always behaves as a copy.\n\nFor example, when doing 'df[col].method(value, inplace=True)', try using 'df.method({col: value}, inplace=True)' or df[col] = df[col].method(value) instead, to perform the operation inplace on the original object.\n\n\n  onehot_df[column_name].fillna(fill_na, inplace=True)\n/tmp/ipykernel_33/881269123.py:349: FutureWarning: A value is trying to be set on a copy of a DataFrame or Series through chained assignment using an inplace method.\nThe behavior will change in pandas 3.0. This inplace method will never work because the intermediate object on which we are setting values always behaves as a copy.\n\nFor example, when doing 'df[col].method(value, inplace=True)', try using 'df.method({col: value}, inplace=True)' or df[col] = df[col].method(value) instead, to perform the operation inplace on the original object.\n\n\n  onehot_df[column_name].fillna(fill_na, inplace=True)\n/tmp/ipykernel_33/881269123.py:349: FutureWarning: A value is trying to be set on a copy of a DataFrame or Series through chained assignment using an inplace method.\nThe behavior will change in pandas 3.0. This inplace method will never work because the intermediate object on which we are setting values always behaves as a copy.\n\nFor example, when doing 'df[col].method(value, inplace=True)', try using 'df.method({col: value}, inplace=True)' or df[col] = df[col].method(value) instead, to perform the operation inplace on the original object.\n\n\n  onehot_df[column_name].fillna(fill_na, inplace=True)\n/tmp/ipykernel_33/881269123.py:349: FutureWarning: A value is trying to be set on a copy of a DataFrame or Series through chained assignment using an inplace method.\nThe behavior will change in pandas 3.0. This inplace method will never work because the intermediate object on which we are setting values always behaves as a copy.\n\nFor example, when doing 'df[col].method(value, inplace=True)', try using 'df.method({col: value}, inplace=True)' or df[col] = df[col].method(value) instead, to perform the operation inplace on the original object.\n\n\n  onehot_df[column_name].fillna(fill_na, inplace=True)\n/tmp/ipykernel_33/881269123.py:349: FutureWarning: A value is trying to be set on a copy of a DataFrame or Series through chained assignment using an inplace method.\nThe behavior will change in pandas 3.0. This inplace method will never work because the intermediate object on which we are setting values always behaves as a copy.\n\nFor example, when doing 'df[col].method(value, inplace=True)', try using 'df.method({col: value}, inplace=True)' or df[col] = df[col].method(value) instead, to perform the operation inplace on the original object.\n\n\n  onehot_df[column_name].fillna(fill_na, inplace=True)\n/tmp/ipykernel_33/881269123.py:349: FutureWarning: A value is trying to be set on a copy of a DataFrame or Series through chained assignment using an inplace method.\nThe behavior will change in pandas 3.0. This inplace method will never work because the intermediate object on which we are setting values always behaves as a copy.\n\nFor example, when doing 'df[col].method(value, inplace=True)', try using 'df.method({col: value}, inplace=True)' or df[col] = df[col].method(value) instead, to perform the operation inplace on the original object.\n\n\n  onehot_df[column_name].fillna(fill_na, inplace=True)\n/tmp/ipykernel_33/881269123.py:427: FutureWarning: A value is trying to be set on a copy of a DataFrame or Series through chained assignment using an inplace method.\nThe behavior will change in pandas 3.0. This inplace method will never work because the intermediate object on which we are setting values always behaves as a copy.\n\nFor example, when doing 'df[col].method(value, inplace=True)', try using 'df.method({col: value}, inplace=True)' or df[col] = df[col].method(value) instead, to perform the operation inplace on the original object.\n\n\n  yearbin_df[\"GarageYrBltBin\"].fillna(\"NoGarage\", inplace=True)\n",
          "output_type": "stream"
        },
        {
          "name": "stdout",
          "text": "Training set size: (1456, 403)\nTest set size: (1459, 403)\n",
          "output_type": "stream"
        }
      ]
    },
    {
      "cell_type": "code",
      "source": [
        "#print(\"Training set size:\", train_df_munged.shape)\n",
        "#print(\"Test set size:\", test_df_munged.shape)\n",
        "y_train = label_df[\"SalePrice\"].values\n",
        "#train_df_munged.values"
      ],
      "metadata": {
        "execution": {
          "iopub.status.busy": "2024-04-29T12:27:03.957417Z",
          "iopub.execute_input": "2024-04-29T12:27:03.958556Z",
          "iopub.status.idle": "2024-04-29T12:27:03.965715Z",
          "shell.execute_reply.started": "2024-04-29T12:27:03.958513Z",
          "shell.execute_reply": "2024-04-29T12:27:03.963454Z"
        },
        "trusted": true,
        "id": "mmeESEZhfwLG"
      },
      "execution_count": null,
      "outputs": []
    },
    {
      "cell_type": "code",
      "source": [
        "from sklearn.linear_model import ElasticNet, Lasso,  BayesianRidge, LassoLarsIC ,Ridge\n",
        "from sklearn.ensemble import RandomForestRegressor,  GradientBoostingRegressor\n",
        "from sklearn.kernel_ridge import KernelRidge\n",
        "from sklearn.pipeline import make_pipeline\n",
        "from sklearn.preprocessing import RobustScaler\n",
        "from sklearn.base import BaseEstimator, TransformerMixin, RegressorMixin, clone\n",
        "from sklearn.model_selection import KFold, cross_val_score, train_test_split\n",
        "from sklearn.metrics import mean_squared_error\n",
        "import xgboost as xgb\n",
        "import lightgbm as lgb"
      ],
      "metadata": {
        "execution": {
          "iopub.status.busy": "2024-04-29T12:27:03.967187Z",
          "iopub.execute_input": "2024-04-29T12:27:03.967926Z",
          "iopub.status.idle": "2024-04-29T12:27:05.77761Z",
          "shell.execute_reply.started": "2024-04-29T12:27:03.967886Z",
          "shell.execute_reply": "2024-04-29T12:27:05.775762Z"
        },
        "trusted": true,
        "id": "BjCKp9fafwLH"
      },
      "execution_count": null,
      "outputs": []
    },
    {
      "cell_type": "code",
      "source": [
        "#Validation function\n",
        "n_folds = 5\n",
        "\n",
        "def rmsle_cv(model):\n",
        "    kf = KFold(n_folds, shuffle=True, random_state=42).get_n_splits(train_df_munged.values)\n",
        "    rmse= np.sqrt(-cross_val_score(model, train_df_munged.values, y_train, scoring=\"neg_mean_squared_error\", cv = kf))\n",
        "    return(rmse)"
      ],
      "metadata": {
        "execution": {
          "iopub.status.busy": "2024-04-29T12:27:05.779099Z",
          "iopub.execute_input": "2024-04-29T12:27:05.780251Z",
          "iopub.status.idle": "2024-04-29T12:27:05.791672Z",
          "shell.execute_reply.started": "2024-04-29T12:27:05.780214Z",
          "shell.execute_reply": "2024-04-29T12:27:05.788982Z"
        },
        "trusted": true,
        "id": "Va-etw0VfwLI"
      },
      "execution_count": null,
      "outputs": []
    },
    {
      "cell_type": "code",
      "source": [
        "lasso = make_pipeline(RobustScaler(), Lasso(alpha =0.0005, random_state=1))"
      ],
      "metadata": {
        "execution": {
          "iopub.status.busy": "2024-04-29T12:27:05.79319Z",
          "iopub.execute_input": "2024-04-29T12:27:05.794497Z",
          "iopub.status.idle": "2024-04-29T12:27:05.806983Z",
          "shell.execute_reply.started": "2024-04-29T12:27:05.794415Z",
          "shell.execute_reply": "2024-04-29T12:27:05.805987Z"
        },
        "trusted": true,
        "id": "x_8hoje2fwLI"
      },
      "execution_count": null,
      "outputs": []
    },
    {
      "cell_type": "code",
      "source": [
        "ridge = make_pipeline(RobustScaler(), Ridge(alpha =0.0005, random_state=1))"
      ],
      "metadata": {
        "execution": {
          "iopub.status.busy": "2024-04-29T12:27:05.808479Z",
          "iopub.execute_input": "2024-04-29T12:27:05.809135Z",
          "iopub.status.idle": "2024-04-29T12:27:05.818118Z",
          "shell.execute_reply.started": "2024-04-29T12:27:05.809103Z",
          "shell.execute_reply": "2024-04-29T12:27:05.817121Z"
        },
        "trusted": true,
        "id": "2L1a4ippfwLJ"
      },
      "execution_count": null,
      "outputs": []
    },
    {
      "cell_type": "code",
      "source": [
        "ENet = make_pipeline(RobustScaler(), ElasticNet(alpha=0.0005, l1_ratio=.9, random_state=3))"
      ],
      "metadata": {
        "execution": {
          "iopub.status.busy": "2024-04-29T12:27:05.819781Z",
          "iopub.execute_input": "2024-04-29T12:27:05.820344Z",
          "iopub.status.idle": "2024-04-29T12:27:05.830105Z",
          "shell.execute_reply.started": "2024-04-29T12:27:05.820304Z",
          "shell.execute_reply": "2024-04-29T12:27:05.8289Z"
        },
        "trusted": true,
        "id": "XGzf23TBfwLJ"
      },
      "execution_count": null,
      "outputs": []
    },
    {
      "cell_type": "code",
      "source": [
        "KRR = KernelRidge(alpha=0.6, kernel='polynomial', degree=2, coef0=2.5)"
      ],
      "metadata": {
        "execution": {
          "iopub.status.busy": "2024-04-29T12:27:05.831482Z",
          "iopub.execute_input": "2024-04-29T12:27:05.83199Z",
          "iopub.status.idle": "2024-04-29T12:27:05.843273Z",
          "shell.execute_reply.started": "2024-04-29T12:27:05.831962Z",
          "shell.execute_reply": "2024-04-29T12:27:05.842117Z"
        },
        "trusted": true,
        "id": "OZBdOhfDfwLK"
      },
      "execution_count": null,
      "outputs": []
    },
    {
      "cell_type": "code",
      "source": [
        "GBoost = GradientBoostingRegressor(n_estimators=3000, learning_rate=0.05,\n",
        "                                   max_depth=4, max_features='sqrt',\n",
        "                                   min_samples_leaf=15, min_samples_split=10,\n",
        "                                   loss='huber', random_state =5)"
      ],
      "metadata": {
        "execution": {
          "iopub.status.busy": "2024-04-29T12:27:05.844853Z",
          "iopub.execute_input": "2024-04-29T12:27:05.845539Z",
          "iopub.status.idle": "2024-04-29T12:27:05.854888Z",
          "shell.execute_reply.started": "2024-04-29T12:27:05.845496Z",
          "shell.execute_reply": "2024-04-29T12:27:05.853864Z"
        },
        "trusted": true,
        "id": "q_ScIdqDfwLK"
      },
      "execution_count": null,
      "outputs": []
    },
    {
      "cell_type": "code",
      "source": [
        "model_xgb = xgb.XGBRegressor(colsample_bytree=0.4603, gamma=0.0468,\n",
        "                             learning_rate=0.05, max_depth=3,\n",
        "                             min_child_weight=1.7817, n_estimators=2200,\n",
        "                             reg_alpha=0.4640, reg_lambda=0.8571,\n",
        "                             subsample=0.5213, silent=1,\n",
        "                             random_state =7, nthread = -1)"
      ],
      "metadata": {
        "execution": {
          "iopub.status.busy": "2024-04-29T12:27:05.861293Z",
          "iopub.execute_input": "2024-04-29T12:27:05.861761Z",
          "iopub.status.idle": "2024-04-29T12:27:05.868986Z",
          "shell.execute_reply.started": "2024-04-29T12:27:05.861721Z",
          "shell.execute_reply": "2024-04-29T12:27:05.867345Z"
        },
        "trusted": true,
        "id": "KpqRxjQEfwLL"
      },
      "execution_count": null,
      "outputs": []
    },
    {
      "cell_type": "code",
      "source": [
        "model_lgb = lgb.LGBMRegressor(objective='regression',num_leaves=5,\n",
        "                              learning_rate=0.05, n_estimators=720,\n",
        "                              max_bin = 55, bagging_fraction = 0.8,\n",
        "                              bagging_freq = 5, feature_fraction = 0.2319,\n",
        "                              feature_fraction_seed=9, bagging_seed=9,\n",
        "                              min_data_in_leaf =6, min_sum_hessian_in_leaf = 11)"
      ],
      "metadata": {
        "execution": {
          "iopub.status.busy": "2024-04-29T12:27:05.870666Z",
          "iopub.execute_input": "2024-04-29T12:27:05.871112Z",
          "iopub.status.idle": "2024-04-29T12:27:05.881636Z",
          "shell.execute_reply.started": "2024-04-29T12:27:05.871069Z",
          "shell.execute_reply": "2024-04-29T12:27:05.880542Z"
        },
        "trusted": true,
        "id": "-3KR5KzSfwLM"
      },
      "execution_count": null,
      "outputs": []
    },
    {
      "cell_type": "code",
      "source": [
        "score = rmsle_cv(lasso)\n",
        "print(\"\\nLasso score: {:.4f} ({:.4f})\\n\".format(score.mean(), score.std()))"
      ],
      "metadata": {
        "execution": {
          "iopub.status.busy": "2024-04-29T12:27:05.882972Z",
          "iopub.execute_input": "2024-04-29T12:27:05.884208Z",
          "iopub.status.idle": "2024-04-29T12:27:07.9701Z",
          "shell.execute_reply.started": "2024-04-29T12:27:05.884163Z",
          "shell.execute_reply": "2024-04-29T12:27:07.96887Z"
        },
        "trusted": true,
        "id": "iAI7lYFifwLM",
        "outputId": "f1f75c21-63e5-4dd2-80d9-b9c241a46aa4"
      },
      "execution_count": null,
      "outputs": [
        {
          "name": "stdout",
          "text": "\nLasso score: 0.1101 (0.0056)\n\n",
          "output_type": "stream"
        },
        {
          "name": "stderr",
          "text": "/opt/conda/lib/python3.10/site-packages/sklearn/linear_model/_coordinate_descent.py:631: ConvergenceWarning: Objective did not converge. You might want to increase the number of iterations, check the scale of the features or consider increasing regularisation. Duality gap: 2.227e-02, tolerance: 1.858e-02\n  model = cd_fast.enet_coordinate_descent(\n",
          "output_type": "stream"
        }
      ]
    },
    {
      "cell_type": "code",
      "source": [
        "score = rmsle_cv(ridge)\n",
        "print(\"\\nRidge score: {:.4f} ({:.4f})\\n\".format(score.mean(), score.std()))"
      ],
      "metadata": {
        "execution": {
          "iopub.status.busy": "2024-04-29T12:27:07.972508Z",
          "iopub.execute_input": "2024-04-29T12:27:07.974389Z",
          "iopub.status.idle": "2024-04-29T12:27:09.135348Z",
          "shell.execute_reply.started": "2024-04-29T12:27:07.974319Z",
          "shell.execute_reply": "2024-04-29T12:27:09.134225Z"
        },
        "trusted": true,
        "id": "zPHMd3DZfwLN",
        "outputId": "a3b82ff1-8a8d-4fb2-d2a8-e6715914ce35"
      },
      "execution_count": null,
      "outputs": [
        {
          "name": "stdout",
          "text": "\nRidge score: 0.1744 (0.0794)\n\n",
          "output_type": "stream"
        }
      ]
    },
    {
      "cell_type": "code",
      "source": [
        "score = rmsle_cv(ENet)\n",
        "print(\"ElasticNet score: {:.4f} ({:.4f})\\n\".format(score.mean(), score.std()))"
      ],
      "metadata": {
        "execution": {
          "iopub.status.busy": "2024-04-29T12:27:09.137228Z",
          "iopub.execute_input": "2024-04-29T12:27:09.138691Z",
          "iopub.status.idle": "2024-04-29T12:27:11.363691Z",
          "shell.execute_reply.started": "2024-04-29T12:27:09.138644Z",
          "shell.execute_reply": "2024-04-29T12:27:11.360553Z"
        },
        "trusted": true,
        "id": "wsvP7RWsfwLN",
        "outputId": "b0a922bb-af38-4343-c707-9a3e91c7bdb1"
      },
      "execution_count": null,
      "outputs": [
        {
          "name": "stderr",
          "text": "/opt/conda/lib/python3.10/site-packages/sklearn/linear_model/_coordinate_descent.py:631: ConvergenceWarning: Objective did not converge. You might want to increase the number of iterations, check the scale of the features or consider increasing regularisation. Duality gap: 3.060e-02, tolerance: 1.846e-02\n  model = cd_fast.enet_coordinate_descent(\n",
          "output_type": "stream"
        },
        {
          "name": "stdout",
          "text": "ElasticNet score: 0.1101 (0.0057)\n\n",
          "output_type": "stream"
        },
        {
          "name": "stderr",
          "text": "/opt/conda/lib/python3.10/site-packages/sklearn/linear_model/_coordinate_descent.py:631: ConvergenceWarning: Objective did not converge. You might want to increase the number of iterations, check the scale of the features or consider increasing regularisation. Duality gap: 2.445e-02, tolerance: 1.858e-02\n  model = cd_fast.enet_coordinate_descent(\n",
          "output_type": "stream"
        }
      ]
    },
    {
      "cell_type": "code",
      "source": [
        "score = rmsle_cv(KRR)\n",
        "print(\"Kernel Ridge score: {:.4f} ({:.4f})\\n\".format(score.mean(), score.std()))"
      ],
      "metadata": {
        "execution": {
          "iopub.status.busy": "2024-04-29T12:27:11.365181Z",
          "iopub.execute_input": "2024-04-29T12:27:11.365631Z",
          "iopub.status.idle": "2024-04-29T12:27:12.414974Z",
          "shell.execute_reply.started": "2024-04-29T12:27:11.365591Z",
          "shell.execute_reply": "2024-04-29T12:27:12.413787Z"
        },
        "trusted": true,
        "id": "99Tsb2d8fwLO",
        "outputId": "3e96e669-7363-4dcf-95e8-a149d6b510de"
      },
      "execution_count": null,
      "outputs": [
        {
          "name": "stdout",
          "text": "Kernel Ridge score: 0.1100 (0.0053)\n\n",
          "output_type": "stream"
        }
      ]
    },
    {
      "cell_type": "code",
      "source": [
        "score = rmsle_cv(GBoost)\n",
        "print(\"Gradient Boosting score: {:.4f} ({:.4f})\\n\".format(score.mean(), score.std()))\n"
      ],
      "metadata": {
        "execution": {
          "iopub.status.busy": "2024-04-29T12:27:12.421004Z",
          "iopub.execute_input": "2024-04-29T12:27:12.421762Z",
          "iopub.status.idle": "2024-04-29T12:28:25.294602Z",
          "shell.execute_reply.started": "2024-04-29T12:27:12.421714Z",
          "shell.execute_reply": "2024-04-29T12:28:25.293457Z"
        },
        "trusted": true,
        "id": "vBlHLFJ9fwLP",
        "outputId": "a42a2feb-782b-4480-f79e-4efd68b0085e"
      },
      "execution_count": null,
      "outputs": [
        {
          "name": "stdout",
          "text": "Gradient Boosting score: 0.1146 (0.0070)\n\n",
          "output_type": "stream"
        }
      ]
    },
    {
      "cell_type": "code",
      "source": [
        "score = rmsle_cv(model_xgb)\n",
        "print(\"Xgboost score: {:.4f} ({:.4f})\\n\".format(score.mean(), score.std()))"
      ],
      "metadata": {
        "execution": {
          "iopub.status.busy": "2024-04-29T12:28:25.296236Z",
          "iopub.execute_input": "2024-04-29T12:28:25.296955Z",
          "iopub.status.idle": "2024-04-29T12:28:41.35319Z",
          "shell.execute_reply.started": "2024-04-29T12:28:25.296917Z",
          "shell.execute_reply": "2024-04-29T12:28:41.35197Z"
        },
        "trusted": true,
        "id": "xh-l-Xi1fwLP",
        "outputId": "f450bc3d-94ca-4b63-9719-21243a8695a3"
      },
      "execution_count": null,
      "outputs": [
        {
          "name": "stderr",
          "text": "/opt/conda/lib/python3.10/site-packages/xgboost/core.py:160: UserWarning: [12:28:25] WARNING: /workspace/src/learner.cc:742: \nParameters: { \"silent\" } are not used.\n\n  warnings.warn(smsg, UserWarning)\n/opt/conda/lib/python3.10/site-packages/xgboost/core.py:160: UserWarning: [12:28:28] WARNING: /workspace/src/learner.cc:742: \nParameters: { \"silent\" } are not used.\n\n  warnings.warn(smsg, UserWarning)\n/opt/conda/lib/python3.10/site-packages/xgboost/core.py:160: UserWarning: [12:28:31] WARNING: /workspace/src/learner.cc:742: \nParameters: { \"silent\" } are not used.\n\n  warnings.warn(smsg, UserWarning)\n/opt/conda/lib/python3.10/site-packages/xgboost/core.py:160: UserWarning: [12:28:34] WARNING: /workspace/src/learner.cc:742: \nParameters: { \"silent\" } are not used.\n\n  warnings.warn(smsg, UserWarning)\n/opt/conda/lib/python3.10/site-packages/xgboost/core.py:160: UserWarning: [12:28:37] WARNING: /workspace/src/learner.cc:742: \nParameters: { \"silent\" } are not used.\n\n  warnings.warn(smsg, UserWarning)\n",
          "output_type": "stream"
        },
        {
          "name": "stdout",
          "text": "Xgboost score: 0.1138 (0.0060)\n\n",
          "output_type": "stream"
        }
      ]
    },
    {
      "cell_type": "code",
      "source": [
        "score = rmsle_cv(model_lgb)\n",
        "print(\"LGBM score: {:.4f} ({:.4f})\\n\" .format(score.mean(), score.std()))"
      ],
      "metadata": {
        "execution": {
          "iopub.status.busy": "2024-04-29T12:28:41.354536Z",
          "iopub.execute_input": "2024-04-29T12:28:41.354857Z",
          "iopub.status.idle": "2024-04-29T12:28:45.113665Z",
          "shell.execute_reply.started": "2024-04-29T12:28:41.354831Z",
          "shell.execute_reply": "2024-04-29T12:28:45.112399Z"
        },
        "trusted": true,
        "id": "im-DlKOKfwLQ",
        "outputId": "11684e54-eff9-4b2e-ba9d-9cbece830143"
      },
      "execution_count": null,
      "outputs": [
        {
          "name": "stdout",
          "text": "[LightGBM] [Warning] min_sum_hessian_in_leaf is set=11, min_child_weight=0.001 will be ignored. Current value: min_sum_hessian_in_leaf=11\n[LightGBM] [Warning] min_data_in_leaf is set=6, min_child_samples=20 will be ignored. Current value: min_data_in_leaf=6\n[LightGBM] [Warning] feature_fraction is set=0.2319, colsample_bytree=1.0 will be ignored. Current value: feature_fraction=0.2319\n[LightGBM] [Warning] bagging_fraction is set=0.8, subsample=1.0 will be ignored. Current value: bagging_fraction=0.8\n[LightGBM] [Warning] bagging_freq is set=5, subsample_freq=0 will be ignored. Current value: bagging_freq=5\n[LightGBM] [Warning] min_sum_hessian_in_leaf is set=11, min_child_weight=0.001 will be ignored. Current value: min_sum_hessian_in_leaf=11\n[LightGBM] [Warning] min_data_in_leaf is set=6, min_child_samples=20 will be ignored. Current value: min_data_in_leaf=6\n[LightGBM] [Warning] feature_fraction is set=0.2319, colsample_bytree=1.0 will be ignored. Current value: feature_fraction=0.2319\n[LightGBM] [Warning] bagging_fraction is set=0.8, subsample=1.0 will be ignored. Current value: bagging_fraction=0.8\n[LightGBM] [Warning] bagging_freq is set=5, subsample_freq=0 will be ignored. Current value: bagging_freq=5\n[LightGBM] [Info] Auto-choosing row-wise multi-threading, the overhead of testing was 0.006763 seconds.\nYou can set `force_row_wise=true` to remove the overhead.\nAnd if memory is not enough, you can set `force_col_wise=true`.\n[LightGBM] [Info] Total Bins 2144\n[LightGBM] [Info] Number of data points in the train set: 1164, number of used features: 356\n[LightGBM] [Info] Start training from score 12.018757\n[LightGBM] [Warning] min_sum_hessian_in_leaf is set=11, min_child_weight=0.001 will be ignored. Current value: min_sum_hessian_in_leaf=11\n[LightGBM] [Warning] min_data_in_leaf is set=6, min_child_samples=20 will be ignored. Current value: min_data_in_leaf=6\n[LightGBM] [Warning] feature_fraction is set=0.2319, colsample_bytree=1.0 will be ignored. Current value: feature_fraction=0.2319\n[LightGBM] [Warning] bagging_fraction is set=0.8, subsample=1.0 will be ignored. Current value: bagging_fraction=0.8\n[LightGBM] [Warning] bagging_freq is set=5, subsample_freq=0 will be ignored. Current value: bagging_freq=5\n[LightGBM] [Warning] min_sum_hessian_in_leaf is set=11, min_child_weight=0.001 will be ignored. Current value: min_sum_hessian_in_leaf=11\n[LightGBM] [Warning] min_data_in_leaf is set=6, min_child_samples=20 will be ignored. Current value: min_data_in_leaf=6\n[LightGBM] [Warning] feature_fraction is set=0.2319, colsample_bytree=1.0 will be ignored. Current value: feature_fraction=0.2319\n[LightGBM] [Warning] bagging_fraction is set=0.8, subsample=1.0 will be ignored. Current value: bagging_fraction=0.8\n[LightGBM] [Warning] bagging_freq is set=5, subsample_freq=0 will be ignored. Current value: bagging_freq=5\n[LightGBM] [Warning] min_sum_hessian_in_leaf is set=11, min_child_weight=0.001 will be ignored. Current value: min_sum_hessian_in_leaf=11\n[LightGBM] [Warning] min_data_in_leaf is set=6, min_child_samples=20 will be ignored. Current value: min_data_in_leaf=6\n[LightGBM] [Warning] feature_fraction is set=0.2319, colsample_bytree=1.0 will be ignored. Current value: feature_fraction=0.2319\n[LightGBM] [Warning] bagging_fraction is set=0.8, subsample=1.0 will be ignored. Current value: bagging_fraction=0.8\n[LightGBM] [Warning] bagging_freq is set=5, subsample_freq=0 will be ignored. Current value: bagging_freq=5\n[LightGBM] [Info] Auto-choosing col-wise multi-threading, the overhead of testing was 0.003268 seconds.\nYou can set `force_col_wise=true` to remove the overhead.\n[LightGBM] [Info] Total Bins 2147\n[LightGBM] [Info] Number of data points in the train set: 1165, number of used features: 355\n[LightGBM] [Info] Start training from score 12.020733\n[LightGBM] [Warning] min_sum_hessian_in_leaf is set=11, min_child_weight=0.001 will be ignored. Current value: min_sum_hessian_in_leaf=11\n[LightGBM] [Warning] min_data_in_leaf is set=6, min_child_samples=20 will be ignored. Current value: min_data_in_leaf=6\n[LightGBM] [Warning] feature_fraction is set=0.2319, colsample_bytree=1.0 will be ignored. Current value: feature_fraction=0.2319\n[LightGBM] [Warning] bagging_fraction is set=0.8, subsample=1.0 will be ignored. Current value: bagging_fraction=0.8\n[LightGBM] [Warning] bagging_freq is set=5, subsample_freq=0 will be ignored. Current value: bagging_freq=5\n[LightGBM] [Warning] min_sum_hessian_in_leaf is set=11, min_child_weight=0.001 will be ignored. Current value: min_sum_hessian_in_leaf=11\n[LightGBM] [Warning] min_data_in_leaf is set=6, min_child_samples=20 will be ignored. Current value: min_data_in_leaf=6\n[LightGBM] [Warning] feature_fraction is set=0.2319, colsample_bytree=1.0 will be ignored. Current value: feature_fraction=0.2319\n[LightGBM] [Warning] bagging_fraction is set=0.8, subsample=1.0 will be ignored. Current value: bagging_fraction=0.8\n[LightGBM] [Warning] bagging_freq is set=5, subsample_freq=0 will be ignored. Current value: bagging_freq=5\n[LightGBM] [Warning] min_sum_hessian_in_leaf is set=11, min_child_weight=0.001 will be ignored. Current value: min_sum_hessian_in_leaf=11\n[LightGBM] [Warning] min_data_in_leaf is set=6, min_child_samples=20 will be ignored. Current value: min_data_in_leaf=6\n[LightGBM] [Warning] feature_fraction is set=0.2319, colsample_bytree=1.0 will be ignored. Current value: feature_fraction=0.2319\n[LightGBM] [Warning] bagging_fraction is set=0.8, subsample=1.0 will be ignored. Current value: bagging_fraction=0.8\n[LightGBM] [Warning] bagging_freq is set=5, subsample_freq=0 will be ignored. Current value: bagging_freq=5\n[LightGBM] [Info] Auto-choosing col-wise multi-threading, the overhead of testing was 0.003351 seconds.\nYou can set `force_col_wise=true` to remove the overhead.\n[LightGBM] [Info] Total Bins 2138\n[LightGBM] [Info] Number of data points in the train set: 1165, number of used features: 354\n[LightGBM] [Info] Start training from score 12.019384\n[LightGBM] [Warning] min_sum_hessian_in_leaf is set=11, min_child_weight=0.001 will be ignored. Current value: min_sum_hessian_in_leaf=11\n[LightGBM] [Warning] min_data_in_leaf is set=6, min_child_samples=20 will be ignored. Current value: min_data_in_leaf=6\n[LightGBM] [Warning] feature_fraction is set=0.2319, colsample_bytree=1.0 will be ignored. Current value: feature_fraction=0.2319\n[LightGBM] [Warning] bagging_fraction is set=0.8, subsample=1.0 will be ignored. Current value: bagging_fraction=0.8\n[LightGBM] [Warning] bagging_freq is set=5, subsample_freq=0 will be ignored. Current value: bagging_freq=5\n[LightGBM] [Warning] min_sum_hessian_in_leaf is set=11, min_child_weight=0.001 will be ignored. Current value: min_sum_hessian_in_leaf=11\n[LightGBM] [Warning] min_data_in_leaf is set=6, min_child_samples=20 will be ignored. Current value: min_data_in_leaf=6\n[LightGBM] [Warning] feature_fraction is set=0.2319, colsample_bytree=1.0 will be ignored. Current value: feature_fraction=0.2319\n[LightGBM] [Warning] bagging_fraction is set=0.8, subsample=1.0 will be ignored. Current value: bagging_fraction=0.8\n[LightGBM] [Warning] bagging_freq is set=5, subsample_freq=0 will be ignored. Current value: bagging_freq=5\n[LightGBM] [Warning] min_sum_hessian_in_leaf is set=11, min_child_weight=0.001 will be ignored. Current value: min_sum_hessian_in_leaf=11\n[LightGBM] [Warning] min_data_in_leaf is set=6, min_child_samples=20 will be ignored. Current value: min_data_in_leaf=6\n[LightGBM] [Warning] feature_fraction is set=0.2319, colsample_bytree=1.0 will be ignored. Current value: feature_fraction=0.2319\n[LightGBM] [Warning] bagging_fraction is set=0.8, subsample=1.0 will be ignored. Current value: bagging_fraction=0.8\n[LightGBM] [Warning] bagging_freq is set=5, subsample_freq=0 will be ignored. Current value: bagging_freq=5\n[LightGBM] [Info] Auto-choosing col-wise multi-threading, the overhead of testing was 0.003389 seconds.\nYou can set `force_col_wise=true` to remove the overhead.\n[LightGBM] [Info] Total Bins 2149\n[LightGBM] [Info] Number of data points in the train set: 1165, number of used features: 355\n[LightGBM] [Info] Start training from score 12.030370\n[LightGBM] [Warning] min_sum_hessian_in_leaf is set=11, min_child_weight=0.001 will be ignored. Current value: min_sum_hessian_in_leaf=11\n[LightGBM] [Warning] min_data_in_leaf is set=6, min_child_samples=20 will be ignored. Current value: min_data_in_leaf=6\n[LightGBM] [Warning] feature_fraction is set=0.2319, colsample_bytree=1.0 will be ignored. Current value: feature_fraction=0.2319\n[LightGBM] [Warning] bagging_fraction is set=0.8, subsample=1.0 will be ignored. Current value: bagging_fraction=0.8\n[LightGBM] [Warning] bagging_freq is set=5, subsample_freq=0 will be ignored. Current value: bagging_freq=5\n[LightGBM] [Warning] min_sum_hessian_in_leaf is set=11, min_child_weight=0.001 will be ignored. Current value: min_sum_hessian_in_leaf=11\n[LightGBM] [Warning] min_data_in_leaf is set=6, min_child_samples=20 will be ignored. Current value: min_data_in_leaf=6\n[LightGBM] [Warning] feature_fraction is set=0.2319, colsample_bytree=1.0 will be ignored. Current value: feature_fraction=0.2319\n[LightGBM] [Warning] bagging_fraction is set=0.8, subsample=1.0 will be ignored. Current value: bagging_fraction=0.8\n[LightGBM] [Warning] bagging_freq is set=5, subsample_freq=0 will be ignored. Current value: bagging_freq=5\n[LightGBM] [Warning] min_sum_hessian_in_leaf is set=11, min_child_weight=0.001 will be ignored. Current value: min_sum_hessian_in_leaf=11\n[LightGBM] [Warning] min_data_in_leaf is set=6, min_child_samples=20 will be ignored. Current value: min_data_in_leaf=6\n[LightGBM] [Warning] feature_fraction is set=0.2319, colsample_bytree=1.0 will be ignored. Current value: feature_fraction=0.2319\n[LightGBM] [Warning] bagging_fraction is set=0.8, subsample=1.0 will be ignored. Current value: bagging_fraction=0.8\n[LightGBM] [Warning] bagging_freq is set=5, subsample_freq=0 will be ignored. Current value: bagging_freq=5\n[LightGBM] [Info] Auto-choosing col-wise multi-threading, the overhead of testing was 0.003794 seconds.\nYou can set `force_col_wise=true` to remove the overhead.\n[LightGBM] [Info] Total Bins 2149\n[LightGBM] [Info] Number of data points in the train set: 1165, number of used features: 357\n[LightGBM] [Info] Start training from score 12.020469\n[LightGBM] [Warning] min_sum_hessian_in_leaf is set=11, min_child_weight=0.001 will be ignored. Current value: min_sum_hessian_in_leaf=11\n[LightGBM] [Warning] min_data_in_leaf is set=6, min_child_samples=20 will be ignored. Current value: min_data_in_leaf=6\n[LightGBM] [Warning] feature_fraction is set=0.2319, colsample_bytree=1.0 will be ignored. Current value: feature_fraction=0.2319\n[LightGBM] [Warning] bagging_fraction is set=0.8, subsample=1.0 will be ignored. Current value: bagging_fraction=0.8\n[LightGBM] [Warning] bagging_freq is set=5, subsample_freq=0 will be ignored. Current value: bagging_freq=5\nLGBM score: 0.1151 (0.0052)\n\n",
          "output_type": "stream"
        }
      ]
    },
    {
      "cell_type": "code",
      "source": [
        "class AveragingModels(BaseEstimator, RegressorMixin, TransformerMixin):\n",
        "    def __init__(self, models):\n",
        "        self.models = models\n",
        "\n",
        "    # we define clones of the original models to fit the data in\n",
        "    def fit(self, X, y):\n",
        "        self.models_ = [clone(x) for x in self.models]\n",
        "\n",
        "        # Train cloned base models\n",
        "        for model in self.models_:\n",
        "            model.fit(X, y)\n",
        "\n",
        "        return self\n",
        "\n",
        "    #Now we do the predictions for cloned models and average them\n",
        "    def predict(self, X):\n",
        "        predictions = np.column_stack([\n",
        "            model.predict(X) for model in self.models_\n",
        "        ])\n",
        "        return np.mean(predictions, axis=1)"
      ],
      "metadata": {
        "execution": {
          "iopub.status.busy": "2024-04-29T12:28:45.117306Z",
          "iopub.execute_input": "2024-04-29T12:28:45.117681Z",
          "iopub.status.idle": "2024-04-29T12:28:45.127884Z",
          "shell.execute_reply.started": "2024-04-29T12:28:45.11765Z",
          "shell.execute_reply": "2024-04-29T12:28:45.126814Z"
        },
        "trusted": true,
        "id": "GHsoUYPSfwLQ"
      },
      "execution_count": null,
      "outputs": []
    },
    {
      "cell_type": "code",
      "source": [
        "averaged_models = AveragingModels(models = (ENet, GBoost, KRR, lasso))\n",
        "\n",
        "score = rmsle_cv(averaged_models)\n",
        "print(\" Averaged base models score: {:.4f} ({:.4f})\\n\".format(score.mean(), score.std()))"
      ],
      "metadata": {
        "execution": {
          "iopub.status.busy": "2024-04-29T12:28:45.129608Z",
          "iopub.execute_input": "2024-04-29T12:28:45.130016Z",
          "iopub.status.idle": "2024-04-29T12:30:02.432155Z",
          "shell.execute_reply.started": "2024-04-29T12:28:45.129981Z",
          "shell.execute_reply": "2024-04-29T12:30:02.430776Z"
        },
        "trusted": true,
        "id": "SZ7sv1CPfwLR",
        "outputId": "8405cc9c-eb12-47f8-9f0b-a4e268c246c0"
      },
      "execution_count": null,
      "outputs": [
        {
          "name": "stderr",
          "text": "/opt/conda/lib/python3.10/site-packages/sklearn/linear_model/_coordinate_descent.py:631: ConvergenceWarning: Objective did not converge. You might want to increase the number of iterations, check the scale of the features or consider increasing regularisation. Duality gap: 3.060e-02, tolerance: 1.846e-02\n  model = cd_fast.enet_coordinate_descent(\n/opt/conda/lib/python3.10/site-packages/sklearn/linear_model/_coordinate_descent.py:631: ConvergenceWarning: Objective did not converge. You might want to increase the number of iterations, check the scale of the features or consider increasing regularisation. Duality gap: 2.445e-02, tolerance: 1.858e-02\n  model = cd_fast.enet_coordinate_descent(\n",
          "output_type": "stream"
        },
        {
          "name": "stdout",
          "text": " Averaged base models score: 0.1077 (0.0057)\n\n",
          "output_type": "stream"
        },
        {
          "name": "stderr",
          "text": "/opt/conda/lib/python3.10/site-packages/sklearn/linear_model/_coordinate_descent.py:631: ConvergenceWarning: Objective did not converge. You might want to increase the number of iterations, check the scale of the features or consider increasing regularisation. Duality gap: 2.227e-02, tolerance: 1.858e-02\n  model = cd_fast.enet_coordinate_descent(\n",
          "output_type": "stream"
        }
      ]
    },
    {
      "cell_type": "code",
      "source": [
        "averaged_models_ridge = AveragingModels(models = (ENet, GBoost, KRR, ridge))\n",
        "\n",
        "score = rmsle_cv(averaged_models_ridge)\n",
        "print(\" Averaged base models score: {:.4f} ({:.4f})\\n\".format(score.mean(), score.std()))"
      ],
      "metadata": {
        "execution": {
          "iopub.status.busy": "2024-04-29T12:30:02.438776Z",
          "iopub.execute_input": "2024-04-29T12:30:02.445104Z",
          "iopub.status.idle": "2024-04-29T12:31:19.659278Z",
          "shell.execute_reply.started": "2024-04-29T12:30:02.445038Z",
          "shell.execute_reply": "2024-04-29T12:31:19.658128Z"
        },
        "trusted": true,
        "id": "DwY265LgfwLR",
        "outputId": "b3206cb6-e8f7-499a-b893-eba9f1797265"
      },
      "execution_count": null,
      "outputs": [
        {
          "name": "stderr",
          "text": "/opt/conda/lib/python3.10/site-packages/sklearn/linear_model/_coordinate_descent.py:631: ConvergenceWarning: Objective did not converge. You might want to increase the number of iterations, check the scale of the features or consider increasing regularisation. Duality gap: 3.060e-02, tolerance: 1.846e-02\n  model = cd_fast.enet_coordinate_descent(\n/opt/conda/lib/python3.10/site-packages/sklearn/linear_model/_coordinate_descent.py:631: ConvergenceWarning: Objective did not converge. You might want to increase the number of iterations, check the scale of the features or consider increasing regularisation. Duality gap: 2.445e-02, tolerance: 1.858e-02\n  model = cd_fast.enet_coordinate_descent(\n",
          "output_type": "stream"
        },
        {
          "name": "stdout",
          "text": " Averaged base models score: 0.1155 (0.0115)\n\n",
          "output_type": "stream"
        }
      ]
    },
    {
      "cell_type": "code",
      "source": [
        "class StackingAveragedModels(BaseEstimator, RegressorMixin, TransformerMixin):\n",
        "    def __init__(self, base_models, meta_model, n_folds=5):\n",
        "        self.base_models = base_models\n",
        "        self.meta_model = meta_model\n",
        "        self.n_folds = n_folds\n",
        "\n",
        "    # We again fit the data on clones of the original models\n",
        "    def fit(self, X, y):\n",
        "        self.base_models_ = [list() for x in self.base_models]\n",
        "        self.meta_model_ = clone(self.meta_model)\n",
        "        kfold = KFold(n_splits=self.n_folds, shuffle=True, random_state=156)\n",
        "\n",
        "        # Train cloned base models then create out-of-fold predictions\n",
        "        # that are needed to train the cloned meta-model\n",
        "        out_of_fold_predictions = np.zeros((X.shape[0], len(self.base_models)))\n",
        "        for i, model in enumerate(self.base_models):\n",
        "            for train_index, holdout_index in kfold.split(X, y):\n",
        "                instance = clone(model)\n",
        "                self.base_models_[i].append(instance)\n",
        "                instance.fit(X[train_index], y[train_index])\n",
        "                y_pred = instance.predict(X[holdout_index])\n",
        "                out_of_fold_predictions[holdout_index, i] = y_pred\n",
        "\n",
        "        # Now train the cloned  meta-model using the out-of-fold predictions as new feature\n",
        "        self.meta_model_.fit(out_of_fold_predictions, y)\n",
        "        return self\n",
        "\n",
        "    #Do the predictions of all base models on the test data and use the averaged predictions as\n",
        "    #meta-features for the final prediction which is done by the meta-model\n",
        "    def predict(self, X):\n",
        "        meta_features = np.column_stack([\n",
        "            np.column_stack([model.predict(X) for model in base_models]).mean(axis=1)\n",
        "            for base_models in self.base_models_ ])\n",
        "        return self.meta_model_.predict(meta_features)"
      ],
      "metadata": {
        "execution": {
          "iopub.status.busy": "2024-04-29T12:31:19.6674Z",
          "iopub.execute_input": "2024-04-29T12:31:19.672642Z",
          "iopub.status.idle": "2024-04-29T12:31:19.69314Z",
          "shell.execute_reply.started": "2024-04-29T12:31:19.67258Z",
          "shell.execute_reply": "2024-04-29T12:31:19.691889Z"
        },
        "trusted": true,
        "id": "60LfVZ3TfwLR"
      },
      "execution_count": null,
      "outputs": []
    },
    {
      "cell_type": "code",
      "source": [
        "stacked_averaged_models = StackingAveragedModels(base_models = (ENet, GBoost, KRR),\n",
        "                                                 meta_model = lasso)\n",
        "\n",
        "score = rmsle_cv(stacked_averaged_models)\n",
        "print(\"Stacking Averaged models score: {:.4f} ({:.4f})\".format(score.mean(), score.std()))"
      ],
      "metadata": {
        "execution": {
          "iopub.status.busy": "2024-04-29T12:31:19.70174Z",
          "iopub.execute_input": "2024-04-29T12:31:19.707458Z",
          "iopub.status.idle": "2024-04-29T12:37:09.448828Z",
          "shell.execute_reply.started": "2024-04-29T12:31:19.707392Z",
          "shell.execute_reply": "2024-04-29T12:37:09.443006Z"
        },
        "trusted": true,
        "id": "mjvkoLj0fwLS",
        "outputId": "c2b90408-8f1a-4ab2-8cc0-9d0172a478b5"
      },
      "execution_count": null,
      "outputs": [
        {
          "name": "stderr",
          "text": "/opt/conda/lib/python3.10/site-packages/sklearn/linear_model/_coordinate_descent.py:631: ConvergenceWarning: Objective did not converge. You might want to increase the number of iterations, check the scale of the features or consider increasing regularisation. Duality gap: 1.668e-01, tolerance: 1.479e-02\n  model = cd_fast.enet_coordinate_descent(\n/opt/conda/lib/python3.10/site-packages/sklearn/linear_model/_coordinate_descent.py:631: ConvergenceWarning: Objective did not converge. You might want to increase the number of iterations, check the scale of the features or consider increasing regularisation. Duality gap: 6.314e-02, tolerance: 1.509e-02\n  model = cd_fast.enet_coordinate_descent(\n/opt/conda/lib/python3.10/site-packages/sklearn/linear_model/_coordinate_descent.py:631: ConvergenceWarning: Objective did not converge. You might want to increase the number of iterations, check the scale of the features or consider increasing regularisation. Duality gap: 2.162e-02, tolerance: 1.465e-02\n  model = cd_fast.enet_coordinate_descent(\n/opt/conda/lib/python3.10/site-packages/sklearn/linear_model/_coordinate_descent.py:631: ConvergenceWarning: Objective did not converge. You might want to increase the number of iterations, check the scale of the features or consider increasing regularisation. Duality gap: 5.781e-02, tolerance: 1.479e-02\n  model = cd_fast.enet_coordinate_descent(\n/opt/conda/lib/python3.10/site-packages/sklearn/linear_model/_coordinate_descent.py:631: ConvergenceWarning: Objective did not converge. You might want to increase the number of iterations, check the scale of the features or consider increasing regularisation. Duality gap: 3.428e-02, tolerance: 1.413e-02\n  model = cd_fast.enet_coordinate_descent(\n/opt/conda/lib/python3.10/site-packages/sklearn/linear_model/_coordinate_descent.py:631: ConvergenceWarning: Objective did not converge. You might want to increase the number of iterations, check the scale of the features or consider increasing regularisation. Duality gap: 4.646e-02, tolerance: 1.407e-02\n  model = cd_fast.enet_coordinate_descent(\n/opt/conda/lib/python3.10/site-packages/sklearn/linear_model/_coordinate_descent.py:631: ConvergenceWarning: Objective did not converge. You might want to increase the number of iterations, check the scale of the features or consider increasing regularisation. Duality gap: 2.186e-02, tolerance: 1.429e-02\n  model = cd_fast.enet_coordinate_descent(\n/opt/conda/lib/python3.10/site-packages/sklearn/linear_model/_coordinate_descent.py:631: ConvergenceWarning: Objective did not converge. You might want to increase the number of iterations, check the scale of the features or consider increasing regularisation. Duality gap: 1.101e-01, tolerance: 1.406e-02\n  model = cd_fast.enet_coordinate_descent(\n/opt/conda/lib/python3.10/site-packages/sklearn/linear_model/_coordinate_descent.py:631: ConvergenceWarning: Objective did not converge. You might want to increase the number of iterations, check the scale of the features or consider increasing regularisation. Duality gap: 5.936e-02, tolerance: 1.420e-02\n  model = cd_fast.enet_coordinate_descent(\n",
          "output_type": "stream"
        },
        {
          "name": "stdout",
          "text": "Stacking Averaged models score: 0.1079 (0.0054)\n",
          "output_type": "stream"
        }
      ]
    },
    {
      "cell_type": "code",
      "source": [
        "stacked_averaged_models_ridge = StackingAveragedModels(base_models = (ENet, GBoost, KRR),\n",
        "                                                 meta_model = ridge)\n",
        "\n",
        "score_ridge = rmsle_cv(stacked_averaged_models_ridge)\n",
        "print(\"Stacking Averaged models score: {:.4f} ({:.4f})\".format(score_ridge.mean(), score_ridge.std()))"
      ],
      "metadata": {
        "execution": {
          "iopub.status.busy": "2024-04-29T12:37:09.450801Z",
          "iopub.execute_input": "2024-04-29T12:37:09.451482Z",
          "iopub.status.idle": "2024-04-29T12:43:00.14791Z",
          "shell.execute_reply.started": "2024-04-29T12:37:09.451439Z",
          "shell.execute_reply": "2024-04-29T12:43:00.146601Z"
        },
        "trusted": true,
        "id": "vLUZNZkofwLS",
        "outputId": "eb26739f-ef4a-4ae0-c87e-509f808a66f2"
      },
      "execution_count": null,
      "outputs": [
        {
          "name": "stderr",
          "text": "/opt/conda/lib/python3.10/site-packages/sklearn/linear_model/_coordinate_descent.py:631: ConvergenceWarning: Objective did not converge. You might want to increase the number of iterations, check the scale of the features or consider increasing regularisation. Duality gap: 1.668e-01, tolerance: 1.479e-02\n  model = cd_fast.enet_coordinate_descent(\n/opt/conda/lib/python3.10/site-packages/sklearn/linear_model/_coordinate_descent.py:631: ConvergenceWarning: Objective did not converge. You might want to increase the number of iterations, check the scale of the features or consider increasing regularisation. Duality gap: 6.314e-02, tolerance: 1.509e-02\n  model = cd_fast.enet_coordinate_descent(\n/opt/conda/lib/python3.10/site-packages/sklearn/linear_model/_coordinate_descent.py:631: ConvergenceWarning: Objective did not converge. You might want to increase the number of iterations, check the scale of the features or consider increasing regularisation. Duality gap: 2.162e-02, tolerance: 1.465e-02\n  model = cd_fast.enet_coordinate_descent(\n/opt/conda/lib/python3.10/site-packages/sklearn/linear_model/_coordinate_descent.py:631: ConvergenceWarning: Objective did not converge. You might want to increase the number of iterations, check the scale of the features or consider increasing regularisation. Duality gap: 5.781e-02, tolerance: 1.479e-02\n  model = cd_fast.enet_coordinate_descent(\n/opt/conda/lib/python3.10/site-packages/sklearn/linear_model/_coordinate_descent.py:631: ConvergenceWarning: Objective did not converge. You might want to increase the number of iterations, check the scale of the features or consider increasing regularisation. Duality gap: 3.428e-02, tolerance: 1.413e-02\n  model = cd_fast.enet_coordinate_descent(\n/opt/conda/lib/python3.10/site-packages/sklearn/linear_model/_coordinate_descent.py:631: ConvergenceWarning: Objective did not converge. You might want to increase the number of iterations, check the scale of the features or consider increasing regularisation. Duality gap: 4.646e-02, tolerance: 1.407e-02\n  model = cd_fast.enet_coordinate_descent(\n/opt/conda/lib/python3.10/site-packages/sklearn/linear_model/_coordinate_descent.py:631: ConvergenceWarning: Objective did not converge. You might want to increase the number of iterations, check the scale of the features or consider increasing regularisation. Duality gap: 2.186e-02, tolerance: 1.429e-02\n  model = cd_fast.enet_coordinate_descent(\n/opt/conda/lib/python3.10/site-packages/sklearn/linear_model/_coordinate_descent.py:631: ConvergenceWarning: Objective did not converge. You might want to increase the number of iterations, check the scale of the features or consider increasing regularisation. Duality gap: 1.101e-01, tolerance: 1.406e-02\n  model = cd_fast.enet_coordinate_descent(\n/opt/conda/lib/python3.10/site-packages/sklearn/linear_model/_coordinate_descent.py:631: ConvergenceWarning: Objective did not converge. You might want to increase the number of iterations, check the scale of the features or consider increasing regularisation. Duality gap: 5.936e-02, tolerance: 1.420e-02\n  model = cd_fast.enet_coordinate_descent(\n",
          "output_type": "stream"
        },
        {
          "name": "stdout",
          "text": "Stacking Averaged models score: 0.1079 (0.0054)\n",
          "output_type": "stream"
        }
      ]
    },
    {
      "cell_type": "code",
      "source": [
        "def rmsle(y, y_pred):\n",
        "    return np.sqrt(mean_squared_error(y, y_pred))"
      ],
      "metadata": {
        "execution": {
          "iopub.status.busy": "2024-04-29T12:43:00.149743Z",
          "iopub.execute_input": "2024-04-29T12:43:00.150499Z",
          "iopub.status.idle": "2024-04-29T12:43:00.158235Z",
          "shell.execute_reply.started": "2024-04-29T12:43:00.150456Z",
          "shell.execute_reply": "2024-04-29T12:43:00.156783Z"
        },
        "trusted": true,
        "id": "KLRxUjTRfwLT"
      },
      "execution_count": null,
      "outputs": []
    },
    {
      "cell_type": "code",
      "source": [
        "stacked_averaged_models.fit(train_df_munged.values, y_train)\n",
        "stacked_train_pred = stacked_averaged_models.predict(train_df_munged.values)\n",
        "stacked_pred = np.expm1(stacked_averaged_models.predict(test_df_munged.values))\n",
        "print(rmsle(y_train, stacked_train_pred))"
      ],
      "metadata": {
        "execution": {
          "iopub.status.busy": "2024-04-29T12:43:00.15976Z",
          "iopub.execute_input": "2024-04-29T12:43:00.160501Z",
          "iopub.status.idle": "2024-04-29T12:44:20.246999Z",
          "shell.execute_reply.started": "2024-04-29T12:43:00.160464Z",
          "shell.execute_reply": "2024-04-29T12:44:20.245824Z"
        },
        "trusted": true,
        "id": "dA1qTLolfwLT",
        "outputId": "9332a1c8-b283-4968-af94-9e72c90f2adb"
      },
      "execution_count": null,
      "outputs": [
        {
          "name": "stderr",
          "text": "/opt/conda/lib/python3.10/site-packages/sklearn/linear_model/_coordinate_descent.py:631: ConvergenceWarning: Objective did not converge. You might want to increase the number of iterations, check the scale of the features or consider increasing regularisation. Duality gap: 1.192e-01, tolerance: 1.774e-02\n  model = cd_fast.enet_coordinate_descent(\n",
          "output_type": "stream"
        },
        {
          "name": "stdout",
          "text": "0.07384935969780994\n",
          "output_type": "stream"
        }
      ]
    },
    {
      "cell_type": "code",
      "source": [
        "stacked_averaged_models_ridge.fit(train_df_munged.values, y_train)\n",
        "stacked_train_pred_ridge = stacked_averaged_models_ridge.predict(train_df_munged.values)\n",
        "stacked_pred_ridge = np.expm1(stacked_averaged_models_ridge.predict(test_df_munged.values))\n",
        "print(rmsle(y_train, stacked_train_pred_ridge))"
      ],
      "metadata": {
        "execution": {
          "iopub.status.busy": "2024-04-29T12:44:20.248419Z",
          "iopub.execute_input": "2024-04-29T12:44:20.249125Z",
          "iopub.status.idle": "2024-04-29T12:45:39.525401Z",
          "shell.execute_reply.started": "2024-04-29T12:44:20.249087Z",
          "shell.execute_reply": "2024-04-29T12:45:39.524008Z"
        },
        "trusted": true,
        "id": "HmjyZ4kmfwLU",
        "outputId": "088cfe95-96b3-4617-b74c-74f3518aad80"
      },
      "execution_count": null,
      "outputs": [
        {
          "name": "stderr",
          "text": "/opt/conda/lib/python3.10/site-packages/sklearn/linear_model/_coordinate_descent.py:631: ConvergenceWarning: Objective did not converge. You might want to increase the number of iterations, check the scale of the features or consider increasing regularisation. Duality gap: 1.192e-01, tolerance: 1.774e-02\n  model = cd_fast.enet_coordinate_descent(\n",
          "output_type": "stream"
        },
        {
          "name": "stdout",
          "text": "0.07386785761731066\n",
          "output_type": "stream"
        }
      ]
    },
    {
      "cell_type": "code",
      "source": [
        "model_xgb.fit(train_df_munged, y_train)\n",
        "xgb_train_pred = model_xgb.predict(train_df_munged)\n",
        "xgb_pred = np.expm1(model_xgb.predict(test_df_munged))\n",
        "print(rmsle(y_train, xgb_train_pred))"
      ],
      "metadata": {
        "execution": {
          "iopub.status.busy": "2024-04-29T12:45:39.526919Z",
          "iopub.execute_input": "2024-04-29T12:45:39.527657Z",
          "iopub.status.idle": "2024-04-29T12:45:48.765306Z",
          "shell.execute_reply.started": "2024-04-29T12:45:39.527614Z",
          "shell.execute_reply": "2024-04-29T12:45:48.763709Z"
        },
        "trusted": true,
        "id": "09J8Nk2MfwLU",
        "outputId": "d53c4d18-4419-43ac-d131-df6b23c6ece1"
      },
      "execution_count": null,
      "outputs": [
        {
          "name": "stderr",
          "text": "/opt/conda/lib/python3.10/site-packages/xgboost/core.py:160: UserWarning: [12:45:39] WARNING: /workspace/src/learner.cc:742: \nParameters: { \"silent\" } are not used.\n\n  warnings.warn(smsg, UserWarning)\n",
          "output_type": "stream"
        },
        {
          "name": "stdout",
          "text": "0.08404240349359858\n",
          "output_type": "stream"
        }
      ]
    },
    {
      "cell_type": "code",
      "source": [
        "model_lgb.fit(train_df_munged, y_train)\n",
        "lgb_train_pred = model_lgb.predict(train_df_munged)\n",
        "lgb_pred = np.expm1(model_lgb.predict(test_df_munged.values))\n",
        "print(rmsle(y_train, lgb_train_pred))"
      ],
      "metadata": {
        "execution": {
          "iopub.status.busy": "2024-04-29T12:45:48.766892Z",
          "iopub.execute_input": "2024-04-29T12:45:48.767364Z",
          "iopub.status.idle": "2024-04-29T12:45:49.613838Z",
          "shell.execute_reply.started": "2024-04-29T12:45:48.76732Z",
          "shell.execute_reply": "2024-04-29T12:45:49.612723Z"
        },
        "trusted": true,
        "id": "rb3lrNAHfwLU",
        "outputId": "6216ef2c-bc2d-4c41-982c-3fdc6afa6d84"
      },
      "execution_count": null,
      "outputs": [
        {
          "name": "stdout",
          "text": "[LightGBM] [Warning] min_sum_hessian_in_leaf is set=11, min_child_weight=0.001 will be ignored. Current value: min_sum_hessian_in_leaf=11\n[LightGBM] [Warning] min_data_in_leaf is set=6, min_child_samples=20 will be ignored. Current value: min_data_in_leaf=6\n[LightGBM] [Warning] feature_fraction is set=0.2319, colsample_bytree=1.0 will be ignored. Current value: feature_fraction=0.2319\n[LightGBM] [Warning] bagging_fraction is set=0.8, subsample=1.0 will be ignored. Current value: bagging_fraction=0.8\n[LightGBM] [Warning] bagging_freq is set=5, subsample_freq=0 will be ignored. Current value: bagging_freq=5\n[LightGBM] [Warning] Found whitespace in feature_names, replace with underlines\n[LightGBM] [Warning] min_sum_hessian_in_leaf is set=11, min_child_weight=0.001 will be ignored. Current value: min_sum_hessian_in_leaf=11\n[LightGBM] [Warning] min_data_in_leaf is set=6, min_child_samples=20 will be ignored. Current value: min_data_in_leaf=6\n[LightGBM] [Warning] feature_fraction is set=0.2319, colsample_bytree=1.0 will be ignored. Current value: feature_fraction=0.2319\n[LightGBM] [Warning] bagging_fraction is set=0.8, subsample=1.0 will be ignored. Current value: bagging_fraction=0.8\n[LightGBM] [Warning] bagging_freq is set=5, subsample_freq=0 will be ignored. Current value: bagging_freq=5\n[LightGBM] [Info] Auto-choosing col-wise multi-threading, the overhead of testing was 0.003907 seconds.\nYou can set `force_col_wise=true` to remove the overhead.\n[LightGBM] [Info] Total Bins 2182\n[LightGBM] [Info] Number of data points in the train set: 1456, number of used features: 362\n[LightGBM] [Info] Start training from score 12.021943\n[LightGBM] [Warning] min_sum_hessian_in_leaf is set=11, min_child_weight=0.001 will be ignored. Current value: min_sum_hessian_in_leaf=11\n[LightGBM] [Warning] min_data_in_leaf is set=6, min_child_samples=20 will be ignored. Current value: min_data_in_leaf=6\n[LightGBM] [Warning] feature_fraction is set=0.2319, colsample_bytree=1.0 will be ignored. Current value: feature_fraction=0.2319\n[LightGBM] [Warning] bagging_fraction is set=0.8, subsample=1.0 will be ignored. Current value: bagging_fraction=0.8\n[LightGBM] [Warning] bagging_freq is set=5, subsample_freq=0 will be ignored. Current value: bagging_freq=5\n[LightGBM] [Warning] min_sum_hessian_in_leaf is set=11, min_child_weight=0.001 will be ignored. Current value: min_sum_hessian_in_leaf=11\n[LightGBM] [Warning] min_data_in_leaf is set=6, min_child_samples=20 will be ignored. Current value: min_data_in_leaf=6\n[LightGBM] [Warning] feature_fraction is set=0.2319, colsample_bytree=1.0 will be ignored. Current value: feature_fraction=0.2319\n[LightGBM] [Warning] bagging_fraction is set=0.8, subsample=1.0 will be ignored. Current value: bagging_fraction=0.8\n[LightGBM] [Warning] bagging_freq is set=5, subsample_freq=0 will be ignored. Current value: bagging_freq=5\n0.06926259332568477\n",
          "output_type": "stream"
        }
      ]
    },
    {
      "cell_type": "code",
      "source": [
        "'''RMSE on the entire Train data when averaging'''\n",
        "\n",
        "print('RMSLE score on train data:')\n",
        "print(rmsle(y_train,stacked_train_pred*0.7 +\n",
        "               xgb_train_pred*0.15 + lgb_train_pred*0.15))  #0.75 0.125 0.125"
      ],
      "metadata": {
        "execution": {
          "iopub.status.busy": "2024-04-29T12:45:49.615135Z",
          "iopub.execute_input": "2024-04-29T12:45:49.615998Z",
          "iopub.status.idle": "2024-04-29T12:45:49.623962Z",
          "shell.execute_reply.started": "2024-04-29T12:45:49.615963Z",
          "shell.execute_reply": "2024-04-29T12:45:49.622488Z"
        },
        "trusted": true,
        "id": "q6_P35_VfwLV",
        "outputId": "5a4e4bd7-3803-4a5f-f477-24d148d8cc34"
      },
      "execution_count": null,
      "outputs": [
        {
          "name": "stdout",
          "text": "RMSLE score on train data:\n0.07282898327817613\n",
          "output_type": "stream"
        }
      ]
    },
    {
      "cell_type": "code",
      "source": [
        "'''RMSE on the entire Train data when averaging'''\n",
        "\n",
        "print('RMSLE_ridge score on train data:')\n",
        "print(rmsle(y_train,stacked_train_pred_ridge*0.7 +\n",
        "               xgb_train_pred*0.15 + lgb_train_pred*0.15))"
      ],
      "metadata": {
        "execution": {
          "iopub.status.busy": "2024-04-29T12:45:49.625748Z",
          "iopub.execute_input": "2024-04-29T12:45:49.626073Z",
          "iopub.status.idle": "2024-04-29T12:45:49.642151Z",
          "shell.execute_reply.started": "2024-04-29T12:45:49.626047Z",
          "shell.execute_reply": "2024-04-29T12:45:49.640789Z"
        },
        "trusted": true,
        "id": "UWSjaVTAfwLV",
        "outputId": "acf64dee-88a8-44a4-986c-5f49f20a344d"
      },
      "execution_count": null,
      "outputs": [
        {
          "name": "stdout",
          "text": "RMSLE_ridge score on train data:\n0.0728370672457598\n",
          "output_type": "stream"
        }
      ]
    },
    {
      "cell_type": "code",
      "source": [
        "ensemble = stacked_pred*0.85 + xgb_pred*0.075 + lgb_pred*0.075"
      ],
      "metadata": {
        "execution": {
          "iopub.status.busy": "2024-04-29T12:45:49.64336Z",
          "iopub.execute_input": "2024-04-29T12:45:49.643749Z",
          "iopub.status.idle": "2024-04-29T12:45:49.658804Z",
          "shell.execute_reply.started": "2024-04-29T12:45:49.64371Z",
          "shell.execute_reply": "2024-04-29T12:45:49.657761Z"
        },
        "trusted": true,
        "id": "dFqq7RSjfwLV"
      },
      "execution_count": null,
      "outputs": []
    },
    {
      "cell_type": "code",
      "source": [
        "ensemble_ridge = stacked_pred_ridge*0.75 + xgb_pred*0.125 + lgb_pred*0.125"
      ],
      "metadata": {
        "execution": {
          "iopub.status.busy": "2024-04-29T12:45:49.659681Z",
          "iopub.execute_input": "2024-04-29T12:45:49.660046Z",
          "iopub.status.idle": "2024-04-29T12:45:49.672446Z",
          "shell.execute_reply.started": "2024-04-29T12:45:49.66001Z",
          "shell.execute_reply": "2024-04-29T12:45:49.671251Z"
        },
        "trusted": true,
        "id": "W6d6ac_FfwLW"
      },
      "execution_count": null,
      "outputs": []
    },
    {
      "cell_type": "code",
      "source": [
        "sub = pd.DataFrame()\n",
        "test_ID = test_df['Id']\n",
        "sub['Id'] = test_ID\n",
        "sub['SalePrice'] = ensemble_ridge\n",
        "sub.to_csv('submission.csv',index=False)"
      ],
      "metadata": {
        "execution": {
          "iopub.status.busy": "2024-04-29T12:45:49.67372Z",
          "iopub.execute_input": "2024-04-29T12:45:49.674064Z",
          "iopub.status.idle": "2024-04-29T12:45:49.694069Z",
          "shell.execute_reply.started": "2024-04-29T12:45:49.674036Z",
          "shell.execute_reply": "2024-04-29T12:45:49.693146Z"
        },
        "trusted": true,
        "id": "1fsXzwEufwLl"
      },
      "execution_count": null,
      "outputs": []
    }
  ]
}